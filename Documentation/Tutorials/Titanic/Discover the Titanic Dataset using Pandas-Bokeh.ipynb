{
 "cells": [
  {
   "cell_type": "markdown",
   "metadata": {},
   "source": [
    "# Set up the environment\n",
    "\n",
    "For this tutorial, we need to have installed:\n",
    "\n",
    "* pandas >= 0.25\n",
    "* bokeh >= 1.2\n",
    "* pandas-bokeh >= 0.3.1\n",
    "\n",
    "Let us first import **pandas** and set the plotting backend to **Bokeh**:"
   ]
  },
  {
   "cell_type": "code",
   "execution_count": 2,
   "metadata": {
    "ExecuteTime": {
     "end_time": "2019-07-26T20:10:53.815302Z",
     "start_time": "2019-07-26T20:10:53.811758Z"
    }
   },
   "outputs": [],
   "source": [
    "import pandas as pd\n",
    "pd.set_option('plotting.backend', 'pandas_bokeh')"
   ]
  },
  {
   "cell_type": "markdown",
   "metadata": {},
   "source": [
    "**Pandas-Bokeh** allows to plot the data either to a file (static *HTML*) or as an *embedded interactive plot* in the notebook. The first can be done by calling:"
   ]
  },
  {
   "cell_type": "code",
   "execution_count": 3,
   "metadata": {
    "ExecuteTime": {
     "end_time": "2019-07-26T20:10:55.484842Z",
     "start_time": "2019-07-26T20:10:55.479122Z"
    }
   },
   "outputs": [],
   "source": [
    "pd.plotting.output_file(\"path-to-file.html\")"
   ]
  },
  {
   "cell_type": "markdown",
   "metadata": {},
   "source": [
    "We will in this tutorial focus on the embedded plots, which is more convenient when making an explorative data ananlysis:"
   ]
  },
  {
   "cell_type": "code",
   "execution_count": 4,
   "metadata": {
    "ExecuteTime": {
     "end_time": "2019-07-26T20:10:57.241998Z",
     "start_time": "2019-07-26T20:10:57.228240Z"
    }
   },
   "outputs": [
    {
     "data": {
      "text/html": [
       "\n",
       "    <div class=\"bk-root\">\n",
       "        <a href=\"https://bokeh.pydata.org\" target=\"_blank\" class=\"bk-logo bk-logo-small bk-logo-notebook\"></a>\n",
       "        <span id=\"1001\">Loading BokehJS ...</span>\n",
       "    </div>"
      ]
     },
     "metadata": {},
     "output_type": "display_data"
    },
    {
     "data": {
      "application/javascript": [
       "\n",
       "(function(root) {\n",
       "  function now() {\n",
       "    return new Date();\n",
       "  }\n",
       "\n",
       "  var force = true;\n",
       "\n",
       "  if (typeof root._bokeh_onload_callbacks === \"undefined\" || force === true) {\n",
       "    root._bokeh_onload_callbacks = [];\n",
       "    root._bokeh_is_loading = undefined;\n",
       "  }\n",
       "\n",
       "  var JS_MIME_TYPE = 'application/javascript';\n",
       "  var HTML_MIME_TYPE = 'text/html';\n",
       "  var EXEC_MIME_TYPE = 'application/vnd.bokehjs_exec.v0+json';\n",
       "  var CLASS_NAME = 'output_bokeh rendered_html';\n",
       "\n",
       "  /**\n",
       "   * Render data to the DOM node\n",
       "   */\n",
       "  function render(props, node) {\n",
       "    var script = document.createElement(\"script\");\n",
       "    node.appendChild(script);\n",
       "  }\n",
       "\n",
       "  /**\n",
       "   * Handle when an output is cleared or removed\n",
       "   */\n",
       "  function handleClearOutput(event, handle) {\n",
       "    var cell = handle.cell;\n",
       "\n",
       "    var id = cell.output_area._bokeh_element_id;\n",
       "    var server_id = cell.output_area._bokeh_server_id;\n",
       "    // Clean up Bokeh references\n",
       "    if (id != null && id in Bokeh.index) {\n",
       "      Bokeh.index[id].model.document.clear();\n",
       "      delete Bokeh.index[id];\n",
       "    }\n",
       "\n",
       "    if (server_id !== undefined) {\n",
       "      // Clean up Bokeh references\n",
       "      var cmd = \"from bokeh.io.state import curstate; print(curstate().uuid_to_server['\" + server_id + \"'].get_sessions()[0].document.roots[0]._id)\";\n",
       "      cell.notebook.kernel.execute(cmd, {\n",
       "        iopub: {\n",
       "          output: function(msg) {\n",
       "            var id = msg.content.text.trim();\n",
       "            if (id in Bokeh.index) {\n",
       "              Bokeh.index[id].model.document.clear();\n",
       "              delete Bokeh.index[id];\n",
       "            }\n",
       "          }\n",
       "        }\n",
       "      });\n",
       "      // Destroy server and session\n",
       "      var cmd = \"import bokeh.io.notebook as ion; ion.destroy_server('\" + server_id + \"')\";\n",
       "      cell.notebook.kernel.execute(cmd);\n",
       "    }\n",
       "  }\n",
       "\n",
       "  /**\n",
       "   * Handle when a new output is added\n",
       "   */\n",
       "  function handleAddOutput(event, handle) {\n",
       "    var output_area = handle.output_area;\n",
       "    var output = handle.output;\n",
       "\n",
       "    // limit handleAddOutput to display_data with EXEC_MIME_TYPE content only\n",
       "    if ((output.output_type != \"display_data\") || (!output.data.hasOwnProperty(EXEC_MIME_TYPE))) {\n",
       "      return\n",
       "    }\n",
       "\n",
       "    var toinsert = output_area.element.find(\".\" + CLASS_NAME.split(' ')[0]);\n",
       "\n",
       "    if (output.metadata[EXEC_MIME_TYPE][\"id\"] !== undefined) {\n",
       "      toinsert[toinsert.length - 1].firstChild.textContent = output.data[JS_MIME_TYPE];\n",
       "      // store reference to embed id on output_area\n",
       "      output_area._bokeh_element_id = output.metadata[EXEC_MIME_TYPE][\"id\"];\n",
       "    }\n",
       "    if (output.metadata[EXEC_MIME_TYPE][\"server_id\"] !== undefined) {\n",
       "      var bk_div = document.createElement(\"div\");\n",
       "      bk_div.innerHTML = output.data[HTML_MIME_TYPE];\n",
       "      var script_attrs = bk_div.children[0].attributes;\n",
       "      for (var i = 0; i < script_attrs.length; i++) {\n",
       "        toinsert[toinsert.length - 1].firstChild.setAttribute(script_attrs[i].name, script_attrs[i].value);\n",
       "      }\n",
       "      // store reference to server id on output_area\n",
       "      output_area._bokeh_server_id = output.metadata[EXEC_MIME_TYPE][\"server_id\"];\n",
       "    }\n",
       "  }\n",
       "\n",
       "  function register_renderer(events, OutputArea) {\n",
       "\n",
       "    function append_mime(data, metadata, element) {\n",
       "      // create a DOM node to render to\n",
       "      var toinsert = this.create_output_subarea(\n",
       "        metadata,\n",
       "        CLASS_NAME,\n",
       "        EXEC_MIME_TYPE\n",
       "      );\n",
       "      this.keyboard_manager.register_events(toinsert);\n",
       "      // Render to node\n",
       "      var props = {data: data, metadata: metadata[EXEC_MIME_TYPE]};\n",
       "      render(props, toinsert[toinsert.length - 1]);\n",
       "      element.append(toinsert);\n",
       "      return toinsert\n",
       "    }\n",
       "\n",
       "    /* Handle when an output is cleared or removed */\n",
       "    events.on('clear_output.CodeCell', handleClearOutput);\n",
       "    events.on('delete.Cell', handleClearOutput);\n",
       "\n",
       "    /* Handle when a new output is added */\n",
       "    events.on('output_added.OutputArea', handleAddOutput);\n",
       "\n",
       "    /**\n",
       "     * Register the mime type and append_mime function with output_area\n",
       "     */\n",
       "    OutputArea.prototype.register_mime_type(EXEC_MIME_TYPE, append_mime, {\n",
       "      /* Is output safe? */\n",
       "      safe: true,\n",
       "      /* Index of renderer in `output_area.display_order` */\n",
       "      index: 0\n",
       "    });\n",
       "  }\n",
       "\n",
       "  // register the mime type if in Jupyter Notebook environment and previously unregistered\n",
       "  if (root.Jupyter !== undefined) {\n",
       "    var events = require('base/js/events');\n",
       "    var OutputArea = require('notebook/js/outputarea').OutputArea;\n",
       "\n",
       "    if (OutputArea.prototype.mime_types().indexOf(EXEC_MIME_TYPE) == -1) {\n",
       "      register_renderer(events, OutputArea);\n",
       "    }\n",
       "  }\n",
       "\n",
       "  \n",
       "  if (typeof (root._bokeh_timeout) === \"undefined\" || force === true) {\n",
       "    root._bokeh_timeout = Date.now() + 5000;\n",
       "    root._bokeh_failed_load = false;\n",
       "  }\n",
       "\n",
       "  var NB_LOAD_WARNING = {'data': {'text/html':\n",
       "     \"<div style='background-color: #fdd'>\\n\"+\n",
       "     \"<p>\\n\"+\n",
       "     \"BokehJS does not appear to have successfully loaded. If loading BokehJS from CDN, this \\n\"+\n",
       "     \"may be due to a slow or bad network connection. Possible fixes:\\n\"+\n",
       "     \"</p>\\n\"+\n",
       "     \"<ul>\\n\"+\n",
       "     \"<li>re-rerun `output_notebook()` to attempt to load from CDN again, or</li>\\n\"+\n",
       "     \"<li>use INLINE resources instead, as so:</li>\\n\"+\n",
       "     \"</ul>\\n\"+\n",
       "     \"<code>\\n\"+\n",
       "     \"from bokeh.resources import INLINE\\n\"+\n",
       "     \"output_notebook(resources=INLINE)\\n\"+\n",
       "     \"</code>\\n\"+\n",
       "     \"</div>\"}};\n",
       "\n",
       "  function display_loaded() {\n",
       "    var el = document.getElementById(\"1001\");\n",
       "    if (el != null) {\n",
       "      el.textContent = \"BokehJS is loading...\";\n",
       "    }\n",
       "    if (root.Bokeh !== undefined) {\n",
       "      if (el != null) {\n",
       "        el.textContent = \"BokehJS \" + root.Bokeh.version + \" successfully loaded.\";\n",
       "      }\n",
       "    } else if (Date.now() < root._bokeh_timeout) {\n",
       "      setTimeout(display_loaded, 100)\n",
       "    }\n",
       "  }\n",
       "\n",
       "\n",
       "  function run_callbacks() {\n",
       "    try {\n",
       "      root._bokeh_onload_callbacks.forEach(function(callback) {\n",
       "        if (callback != null)\n",
       "          callback();\n",
       "      });\n",
       "    } finally {\n",
       "      delete root._bokeh_onload_callbacks\n",
       "    }\n",
       "    console.debug(\"Bokeh: all callbacks have finished\");\n",
       "  }\n",
       "\n",
       "  function load_libs(css_urls, js_urls, callback) {\n",
       "    if (css_urls == null) css_urls = [];\n",
       "    if (js_urls == null) js_urls = [];\n",
       "\n",
       "    root._bokeh_onload_callbacks.push(callback);\n",
       "    if (root._bokeh_is_loading > 0) {\n",
       "      console.debug(\"Bokeh: BokehJS is being loaded, scheduling callback at\", now());\n",
       "      return null;\n",
       "    }\n",
       "    if (js_urls == null || js_urls.length === 0) {\n",
       "      run_callbacks();\n",
       "      return null;\n",
       "    }\n",
       "    console.debug(\"Bokeh: BokehJS not loaded, scheduling load and callback at\", now());\n",
       "    root._bokeh_is_loading = css_urls.length + js_urls.length;\n",
       "\n",
       "    function on_load() {\n",
       "      root._bokeh_is_loading--;\n",
       "      if (root._bokeh_is_loading === 0) {\n",
       "        console.debug(\"Bokeh: all BokehJS libraries/stylesheets loaded\");\n",
       "        run_callbacks()\n",
       "      }\n",
       "    }\n",
       "\n",
       "    function on_error() {\n",
       "      console.error(\"failed to load \" + url);\n",
       "    }\n",
       "\n",
       "    for (var i = 0; i < css_urls.length; i++) {\n",
       "      var url = css_urls[i];\n",
       "      const element = document.createElement(\"link\");\n",
       "      element.onload = on_load;\n",
       "      element.onerror = on_error;\n",
       "      element.rel = \"stylesheet\";\n",
       "      element.type = \"text/css\";\n",
       "      element.href = url;\n",
       "      console.debug(\"Bokeh: injecting link tag for BokehJS stylesheet: \", url);\n",
       "      document.body.appendChild(element);\n",
       "    }\n",
       "\n",
       "    for (var i = 0; i < js_urls.length; i++) {\n",
       "      var url = js_urls[i];\n",
       "      var element = document.createElement('script');\n",
       "      element.onload = on_load;\n",
       "      element.onerror = on_error;\n",
       "      element.async = false;\n",
       "      element.src = url;\n",
       "      console.debug(\"Bokeh: injecting script tag for BokehJS library: \", url);\n",
       "      document.head.appendChild(element);\n",
       "    }\n",
       "  };var element = document.getElementById(\"1001\");\n",
       "  if (element == null) {\n",
       "    console.error(\"Bokeh: ERROR: autoload.js configured with elementid '1001' but no matching script tag was found. \")\n",
       "    return false;\n",
       "  }\n",
       "\n",
       "  function inject_raw_css(css) {\n",
       "    const element = document.createElement(\"style\");\n",
       "    element.appendChild(document.createTextNode(css));\n",
       "    document.body.appendChild(element);\n",
       "  }\n",
       "\n",
       "  var js_urls = [\"https://cdn.pydata.org/bokeh/release/bokeh-1.2.0.min.js\", \"https://cdn.pydata.org/bokeh/release/bokeh-widgets-1.2.0.min.js\", \"https://cdn.pydata.org/bokeh/release/bokeh-tables-1.2.0.min.js\", \"https://cdn.pydata.org/bokeh/release/bokeh-gl-1.2.0.min.js\"];\n",
       "  var css_urls = [\"https://cdn.pydata.org/bokeh/release/bokeh-1.2.0.min.css\", \"https://cdn.pydata.org/bokeh/release/bokeh-widgets-1.2.0.min.css\", \"https://cdn.pydata.org/bokeh/release/bokeh-tables-1.2.0.min.css\"];\n",
       "\n",
       "  var inline_js = [\n",
       "    function(Bokeh) {\n",
       "      Bokeh.set_log_level(\"info\");\n",
       "    },\n",
       "    \n",
       "    function(Bokeh) {\n",
       "      \n",
       "    },\n",
       "    function(Bokeh) {} // ensure no trailing comma for IE\n",
       "  ];\n",
       "\n",
       "  function run_inline_js() {\n",
       "    \n",
       "    if ((root.Bokeh !== undefined) || (force === true)) {\n",
       "      for (var i = 0; i < inline_js.length; i++) {\n",
       "        inline_js[i].call(root, root.Bokeh);\n",
       "      }if (force === true) {\n",
       "        display_loaded();\n",
       "      }} else if (Date.now() < root._bokeh_timeout) {\n",
       "      setTimeout(run_inline_js, 100);\n",
       "    } else if (!root._bokeh_failed_load) {\n",
       "      console.log(\"Bokeh: BokehJS failed to load within specified timeout.\");\n",
       "      root._bokeh_failed_load = true;\n",
       "    } else if (force !== true) {\n",
       "      var cell = $(document.getElementById(\"1001\")).parents('.cell').data().cell;\n",
       "      cell.output_area.append_execute_result(NB_LOAD_WARNING)\n",
       "    }\n",
       "\n",
       "  }\n",
       "\n",
       "  if (root._bokeh_is_loading === 0) {\n",
       "    console.debug(\"Bokeh: BokehJS loaded, going straight to plotting\");\n",
       "    run_inline_js();\n",
       "  } else {\n",
       "    load_libs(css_urls, js_urls, function() {\n",
       "      console.debug(\"Bokeh: BokehJS plotting callback run at\", now());\n",
       "      run_inline_js();\n",
       "    });\n",
       "  }\n",
       "}(window));"
      ],
      "application/vnd.bokehjs_load.v0+json": "\n(function(root) {\n  function now() {\n    return new Date();\n  }\n\n  var force = true;\n\n  if (typeof root._bokeh_onload_callbacks === \"undefined\" || force === true) {\n    root._bokeh_onload_callbacks = [];\n    root._bokeh_is_loading = undefined;\n  }\n\n  \n\n  \n  if (typeof (root._bokeh_timeout) === \"undefined\" || force === true) {\n    root._bokeh_timeout = Date.now() + 5000;\n    root._bokeh_failed_load = false;\n  }\n\n  var NB_LOAD_WARNING = {'data': {'text/html':\n     \"<div style='background-color: #fdd'>\\n\"+\n     \"<p>\\n\"+\n     \"BokehJS does not appear to have successfully loaded. If loading BokehJS from CDN, this \\n\"+\n     \"may be due to a slow or bad network connection. Possible fixes:\\n\"+\n     \"</p>\\n\"+\n     \"<ul>\\n\"+\n     \"<li>re-rerun `output_notebook()` to attempt to load from CDN again, or</li>\\n\"+\n     \"<li>use INLINE resources instead, as so:</li>\\n\"+\n     \"</ul>\\n\"+\n     \"<code>\\n\"+\n     \"from bokeh.resources import INLINE\\n\"+\n     \"output_notebook(resources=INLINE)\\n\"+\n     \"</code>\\n\"+\n     \"</div>\"}};\n\n  function display_loaded() {\n    var el = document.getElementById(\"1001\");\n    if (el != null) {\n      el.textContent = \"BokehJS is loading...\";\n    }\n    if (root.Bokeh !== undefined) {\n      if (el != null) {\n        el.textContent = \"BokehJS \" + root.Bokeh.version + \" successfully loaded.\";\n      }\n    } else if (Date.now() < root._bokeh_timeout) {\n      setTimeout(display_loaded, 100)\n    }\n  }\n\n\n  function run_callbacks() {\n    try {\n      root._bokeh_onload_callbacks.forEach(function(callback) {\n        if (callback != null)\n          callback();\n      });\n    } finally {\n      delete root._bokeh_onload_callbacks\n    }\n    console.debug(\"Bokeh: all callbacks have finished\");\n  }\n\n  function load_libs(css_urls, js_urls, callback) {\n    if (css_urls == null) css_urls = [];\n    if (js_urls == null) js_urls = [];\n\n    root._bokeh_onload_callbacks.push(callback);\n    if (root._bokeh_is_loading > 0) {\n      console.debug(\"Bokeh: BokehJS is being loaded, scheduling callback at\", now());\n      return null;\n    }\n    if (js_urls == null || js_urls.length === 0) {\n      run_callbacks();\n      return null;\n    }\n    console.debug(\"Bokeh: BokehJS not loaded, scheduling load and callback at\", now());\n    root._bokeh_is_loading = css_urls.length + js_urls.length;\n\n    function on_load() {\n      root._bokeh_is_loading--;\n      if (root._bokeh_is_loading === 0) {\n        console.debug(\"Bokeh: all BokehJS libraries/stylesheets loaded\");\n        run_callbacks()\n      }\n    }\n\n    function on_error() {\n      console.error(\"failed to load \" + url);\n    }\n\n    for (var i = 0; i < css_urls.length; i++) {\n      var url = css_urls[i];\n      const element = document.createElement(\"link\");\n      element.onload = on_load;\n      element.onerror = on_error;\n      element.rel = \"stylesheet\";\n      element.type = \"text/css\";\n      element.href = url;\n      console.debug(\"Bokeh: injecting link tag for BokehJS stylesheet: \", url);\n      document.body.appendChild(element);\n    }\n\n    for (var i = 0; i < js_urls.length; i++) {\n      var url = js_urls[i];\n      var element = document.createElement('script');\n      element.onload = on_load;\n      element.onerror = on_error;\n      element.async = false;\n      element.src = url;\n      console.debug(\"Bokeh: injecting script tag for BokehJS library: \", url);\n      document.head.appendChild(element);\n    }\n  };var element = document.getElementById(\"1001\");\n  if (element == null) {\n    console.error(\"Bokeh: ERROR: autoload.js configured with elementid '1001' but no matching script tag was found. \")\n    return false;\n  }\n\n  function inject_raw_css(css) {\n    const element = document.createElement(\"style\");\n    element.appendChild(document.createTextNode(css));\n    document.body.appendChild(element);\n  }\n\n  var js_urls = [\"https://cdn.pydata.org/bokeh/release/bokeh-1.2.0.min.js\", \"https://cdn.pydata.org/bokeh/release/bokeh-widgets-1.2.0.min.js\", \"https://cdn.pydata.org/bokeh/release/bokeh-tables-1.2.0.min.js\", \"https://cdn.pydata.org/bokeh/release/bokeh-gl-1.2.0.min.js\"];\n  var css_urls = [\"https://cdn.pydata.org/bokeh/release/bokeh-1.2.0.min.css\", \"https://cdn.pydata.org/bokeh/release/bokeh-widgets-1.2.0.min.css\", \"https://cdn.pydata.org/bokeh/release/bokeh-tables-1.2.0.min.css\"];\n\n  var inline_js = [\n    function(Bokeh) {\n      Bokeh.set_log_level(\"info\");\n    },\n    \n    function(Bokeh) {\n      \n    },\n    function(Bokeh) {} // ensure no trailing comma for IE\n  ];\n\n  function run_inline_js() {\n    \n    if ((root.Bokeh !== undefined) || (force === true)) {\n      for (var i = 0; i < inline_js.length; i++) {\n        inline_js[i].call(root, root.Bokeh);\n      }if (force === true) {\n        display_loaded();\n      }} else if (Date.now() < root._bokeh_timeout) {\n      setTimeout(run_inline_js, 100);\n    } else if (!root._bokeh_failed_load) {\n      console.log(\"Bokeh: BokehJS failed to load within specified timeout.\");\n      root._bokeh_failed_load = true;\n    } else if (force !== true) {\n      var cell = $(document.getElementById(\"1001\")).parents('.cell').data().cell;\n      cell.output_area.append_execute_result(NB_LOAD_WARNING)\n    }\n\n  }\n\n  if (root._bokeh_is_loading === 0) {\n    console.debug(\"Bokeh: BokehJS loaded, going straight to plotting\");\n    run_inline_js();\n  } else {\n    load_libs(css_urls, js_urls, function() {\n      console.debug(\"Bokeh: BokehJS plotting callback run at\", now());\n      run_inline_js();\n    });\n  }\n}(window));"
     },
     "metadata": {},
     "output_type": "display_data"
    }
   ],
   "source": [
    "pd.plotting.output_notebook()"
   ]
  },
  {
   "cell_type": "markdown",
   "metadata": {},
   "source": [
    "When you execute this code, you should see a small \"Bokeh\" icon that indicates that Bokeh has been successfully loaded."
   ]
  },
  {
   "cell_type": "markdown",
   "metadata": {},
   "source": [
    "# Load the Titanic Dataset\n",
    "\n",
    "After we have set up our environment, let us load our dataset:"
   ]
  },
  {
   "cell_type": "code",
   "execution_count": 5,
   "metadata": {
    "ExecuteTime": {
     "end_time": "2019-07-26T20:11:00.278170Z",
     "start_time": "2019-07-26T20:11:00.251708Z"
    }
   },
   "outputs": [
    {
     "data": {
      "text/html": [
       "<div>\n",
       "<style scoped>\n",
       "    .dataframe tbody tr th:only-of-type {\n",
       "        vertical-align: middle;\n",
       "    }\n",
       "\n",
       "    .dataframe tbody tr th {\n",
       "        vertical-align: top;\n",
       "    }\n",
       "\n",
       "    .dataframe thead th {\n",
       "        text-align: right;\n",
       "    }\n",
       "</style>\n",
       "<table border=\"1\" class=\"dataframe\">\n",
       "  <thead>\n",
       "    <tr style=\"text-align: right;\">\n",
       "      <th></th>\n",
       "      <th>Survived</th>\n",
       "      <th>Pclass</th>\n",
       "      <th>Name</th>\n",
       "      <th>Sex</th>\n",
       "      <th>Age</th>\n",
       "      <th>Siblings/Spouses Aboard</th>\n",
       "      <th>Parents/Children Aboard</th>\n",
       "      <th>Fare</th>\n",
       "    </tr>\n",
       "  </thead>\n",
       "  <tbody>\n",
       "    <tr>\n",
       "      <th>0</th>\n",
       "      <td>0</td>\n",
       "      <td>3</td>\n",
       "      <td>Mr. Owen Harris Braund</td>\n",
       "      <td>male</td>\n",
       "      <td>22.0</td>\n",
       "      <td>1</td>\n",
       "      <td>0</td>\n",
       "      <td>7.2500</td>\n",
       "    </tr>\n",
       "    <tr>\n",
       "      <th>1</th>\n",
       "      <td>1</td>\n",
       "      <td>1</td>\n",
       "      <td>Mrs. John Bradley (Florence Briggs Thayer) Cum...</td>\n",
       "      <td>female</td>\n",
       "      <td>38.0</td>\n",
       "      <td>1</td>\n",
       "      <td>0</td>\n",
       "      <td>71.2833</td>\n",
       "    </tr>\n",
       "    <tr>\n",
       "      <th>2</th>\n",
       "      <td>1</td>\n",
       "      <td>3</td>\n",
       "      <td>Miss. Laina Heikkinen</td>\n",
       "      <td>female</td>\n",
       "      <td>26.0</td>\n",
       "      <td>0</td>\n",
       "      <td>0</td>\n",
       "      <td>7.9250</td>\n",
       "    </tr>\n",
       "    <tr>\n",
       "      <th>3</th>\n",
       "      <td>1</td>\n",
       "      <td>1</td>\n",
       "      <td>Mrs. Jacques Heath (Lily May Peel) Futrelle</td>\n",
       "      <td>female</td>\n",
       "      <td>35.0</td>\n",
       "      <td>1</td>\n",
       "      <td>0</td>\n",
       "      <td>53.1000</td>\n",
       "    </tr>\n",
       "    <tr>\n",
       "      <th>4</th>\n",
       "      <td>0</td>\n",
       "      <td>3</td>\n",
       "      <td>Mr. William Henry Allen</td>\n",
       "      <td>male</td>\n",
       "      <td>35.0</td>\n",
       "      <td>0</td>\n",
       "      <td>0</td>\n",
       "      <td>8.0500</td>\n",
       "    </tr>\n",
       "  </tbody>\n",
       "</table>\n",
       "</div>"
      ],
      "text/plain": [
       "   Survived  Pclass                                               Name  \\\n",
       "0         0       3                             Mr. Owen Harris Braund   \n",
       "1         1       1  Mrs. John Bradley (Florence Briggs Thayer) Cum...   \n",
       "2         1       3                              Miss. Laina Heikkinen   \n",
       "3         1       1        Mrs. Jacques Heath (Lily May Peel) Futrelle   \n",
       "4         0       3                            Mr. William Henry Allen   \n",
       "\n",
       "      Sex   Age  Siblings/Spouses Aboard  Parents/Children Aboard     Fare  \n",
       "0    male  22.0                        1                        0   7.2500  \n",
       "1  female  38.0                        1                        0  71.2833  \n",
       "2  female  26.0                        0                        0   7.9250  \n",
       "3  female  35.0                        1                        0  53.1000  \n",
       "4    male  35.0                        0                        0   8.0500  "
      ]
     },
     "execution_count": 5,
     "metadata": {},
     "output_type": "execute_result"
    }
   ],
   "source": [
    "df = pd.read_csv(\"data/titanic.csv\")\n",
    "df.head()"
   ]
  },
  {
   "cell_type": "markdown",
   "metadata": {
    "ExecuteTime": {
     "end_time": "2019-07-26T19:45:44.715306Z",
     "start_time": "2019-07-26T19:45:44.708689Z"
    }
   },
   "source": [
    "# Analysis of the Titanic data\n",
    "\n",
    "## Age distribution\n",
    "\n",
    "Let us first look at the age distribution for male and female passengers:"
   ]
  },
  {
   "cell_type": "code",
   "execution_count": 20,
   "metadata": {
    "ExecuteTime": {
     "end_time": "2019-07-26T20:15:43.256265Z",
     "start_time": "2019-07-26T20:15:43.127871Z"
    }
   },
   "outputs": [
    {
     "data": {
      "text/html": [
       "\n",
       "\n",
       "\n",
       "\n",
       "\n",
       "\n",
       "  <div class=\"bk-root\" id=\"1412d77e-eb2b-4d7d-9bee-9207f1487cfe\" data-root-id=\"2858\"></div>\n"
      ]
     },
     "metadata": {},
     "output_type": "display_data"
    },
    {
     "data": {
      "application/javascript": [
       "(function(root) {\n",
       "  function embed_document(root) {\n",
       "    \n",
       "  var docs_json = {\"e199af80-1f53-4b77-846d-762054f1b0c3\":{\"roots\":{\"references\":[{\"attributes\":{\"below\":[{\"id\":\"2869\",\"type\":\"LinearAxis\"}],\"center\":[{\"id\":\"2873\",\"type\":\"Grid\"},{\"id\":\"2878\",\"type\":\"Grid\"},{\"id\":\"2904\",\"type\":\"Legend\"}],\"left\":[{\"id\":\"2874\",\"type\":\"LinearAxis\"}],\"output_backend\":\"webgl\",\"plot_height\":300,\"plot_width\":800,\"renderers\":[{\"id\":\"2896\",\"type\":\"GlyphRenderer\"}],\"title\":{\"id\":\"2859\",\"type\":\"Title\"},\"toolbar\":{\"id\":\"2885\",\"type\":\"Toolbar\"},\"x_range\":{\"id\":\"2861\",\"type\":\"DataRange1d\"},\"x_scale\":{\"id\":\"2865\",\"type\":\"LinearScale\"},\"y_range\":{\"id\":\"2863\",\"type\":\"DataRange1d\"},\"y_scale\":{\"id\":\"2867\",\"type\":\"LinearScale\"}},\"id\":\"2858\",\"subtype\":\"Figure\",\"type\":\"Plot\"},{\"attributes\":{},\"id\":\"2899\",\"type\":\"BasicTickFormatter\"},{\"attributes\":{\"callback\":null},\"id\":\"2863\",\"type\":\"DataRange1d\"},{\"attributes\":{},\"id\":\"2865\",\"type\":\"LinearScale\"},{\"attributes\":{\"bottom\":{\"field\":\"bottom\"},\"fill_alpha\":{\"value\":0.5},\"fill_color\":{\"value\":\"#1f77b4\"},\"left\":{\"field\":\"left\"},\"line_alpha\":{\"value\":0.5},\"line_width\":{\"value\":2},\"right\":{\"field\":\"right\"},\"top\":{\"field\":\"top\"}},\"id\":\"2894\",\"type\":\"Quad\"},{\"attributes\":{},\"id\":\"2867\",\"type\":\"LinearScale\"},{\"attributes\":{\"bottom\":{\"field\":\"bottom\"},\"fill_alpha\":{\"value\":0.1},\"fill_color\":{\"value\":\"#1f77b4\"},\"left\":{\"field\":\"left\"},\"line_alpha\":{\"value\":0.1},\"line_color\":{\"value\":\"#1f77b4\"},\"line_width\":{\"value\":2},\"right\":{\"field\":\"right\"},\"top\":{\"field\":\"top\"}},\"id\":\"2895\",\"type\":\"Quad\"},{\"attributes\":{\"axis_label\":\"Age\",\"formatter\":{\"id\":\"2899\",\"type\":\"BasicTickFormatter\"},\"ticker\":{\"id\":\"2908\",\"type\":\"FixedTicker\"}},\"id\":\"2869\",\"type\":\"LinearAxis\"},{\"attributes\":{\"data_source\":{\"id\":\"2892\",\"type\":\"ColumnDataSource\"},\"glyph\":{\"id\":\"2894\",\"type\":\"Quad\"},\"hover_glyph\":null,\"muted_glyph\":null,\"nonselection_glyph\":{\"id\":\"2895\",\"type\":\"Quad\"},\"selection_glyph\":null,\"view\":{\"id\":\"2897\",\"type\":\"CDSView\"}},\"id\":\"2896\",\"type\":\"GlyphRenderer\"},{\"attributes\":{\"axis_label\":\"# Passengers\",\"formatter\":{\"id\":\"2901\",\"type\":\"BasicTickFormatter\"},\"ticker\":{\"id\":\"2875\",\"type\":\"BasicTicker\"}},\"id\":\"2874\",\"type\":\"LinearAxis\"},{\"attributes\":{},\"id\":\"2870\",\"type\":\"BasicTicker\"},{\"attributes\":{\"source\":{\"id\":\"2892\",\"type\":\"ColumnDataSource\"}},\"id\":\"2897\",\"type\":\"CDSView\"},{\"attributes\":{\"ticker\":{\"id\":\"2870\",\"type\":\"BasicTicker\"}},\"id\":\"2873\",\"type\":\"Grid\"},{\"attributes\":{},\"id\":\"2901\",\"type\":\"BasicTickFormatter\"},{\"attributes\":{},\"id\":\"2875\",\"type\":\"BasicTicker\"},{\"attributes\":{\"bottom_units\":\"screen\",\"fill_alpha\":{\"value\":0.5},\"fill_color\":{\"value\":\"lightgrey\"},\"left_units\":\"screen\",\"level\":\"overlay\",\"line_alpha\":{\"value\":1.0},\"line_color\":{\"value\":\"black\"},\"line_dash\":[4,4],\"line_width\":{\"value\":2},\"render_mode\":\"css\",\"right_units\":\"screen\",\"top_units\":\"screen\"},\"id\":\"2903\",\"type\":\"BoxAnnotation\"},{\"attributes\":{\"dimension\":1,\"ticker\":{\"id\":\"2875\",\"type\":\"BasicTicker\"}},\"id\":\"2878\",\"type\":\"Grid\"},{\"attributes\":{\"click_policy\":\"hide\",\"items\":[{\"id\":\"2905\",\"type\":\"LegendItem\"}]},\"id\":\"2904\",\"type\":\"Legend\"},{\"attributes\":{\"callback\":null,\"data\":{\"bins\":[\"0\\uff0d10\",\"10\\uff0d20\",\"20\\uff0d30\",\"30\\uff0d40\",\"40\\uff0d50\",\"50\\uff0d60\",\"60\\uff0d70\",\"70\\uff0d80\",\"80\\uff0d90\",\"90\\uff0d100\"],\"bottom\":[0,0,0,0,0,0,0,0,0,0],\"left\":[0,10,20,30,40,50,60,70,80,90],\"right\":[10,20,30,40,50,60,70,80,90,100],\"top\":[36,74,201,131,72,33,19,6,1,0]},\"selected\":{\"id\":\"2999\",\"type\":\"Selection\"},\"selection_policy\":{\"id\":\"3000\",\"type\":\"UnionRenderers\"}},\"id\":\"2892\",\"type\":\"ColumnDataSource\"},{\"attributes\":{\"label\":{\"value\":\"Age\"},\"renderers\":[{\"id\":\"2896\",\"type\":\"GlyphRenderer\"}]},\"id\":\"2905\",\"type\":\"LegendItem\"},{\"attributes\":{\"callback\":null,\"mode\":\"vline\",\"renderers\":[{\"id\":\"2896\",\"type\":\"GlyphRenderer\"}],\"tooltips\":\"<h3> Age: </h3> <h4>bin=@bins</h4> <h4>value=@top </h4>\"},\"id\":\"2906\",\"type\":\"HoverTool\"},{\"attributes\":{},\"id\":\"2879\",\"type\":\"PanTool\"},{\"attributes\":{\"text\":\"\"},\"id\":\"2859\",\"type\":\"Title\"},{\"attributes\":{},\"id\":\"2880\",\"type\":\"WheelZoomTool\"},{\"attributes\":{\"overlay\":{\"id\":\"2903\",\"type\":\"BoxAnnotation\"}},\"id\":\"2881\",\"type\":\"BoxZoomTool\"},{\"attributes\":{},\"id\":\"2999\",\"type\":\"Selection\"},{\"attributes\":{},\"id\":\"2882\",\"type\":\"SaveTool\"},{\"attributes\":{},\"id\":\"3000\",\"type\":\"UnionRenderers\"},{\"attributes\":{},\"id\":\"2883\",\"type\":\"ResetTool\"},{\"attributes\":{},\"id\":\"2884\",\"type\":\"HelpTool\"},{\"attributes\":{\"ticks\":[0,10,20,30,40,50,60,70,80,90,100]},\"id\":\"2908\",\"type\":\"FixedTicker\"},{\"attributes\":{\"callback\":null},\"id\":\"2861\",\"type\":\"DataRange1d\"},{\"attributes\":{\"active_drag\":\"auto\",\"active_inspect\":\"auto\",\"active_multi\":null,\"active_scroll\":{\"id\":\"2880\",\"type\":\"WheelZoomTool\"},\"active_tap\":\"auto\",\"tools\":[{\"id\":\"2879\",\"type\":\"PanTool\"},{\"id\":\"2880\",\"type\":\"WheelZoomTool\"},{\"id\":\"2881\",\"type\":\"BoxZoomTool\"},{\"id\":\"2882\",\"type\":\"SaveTool\"},{\"id\":\"2883\",\"type\":\"ResetTool\"},{\"id\":\"2884\",\"type\":\"HelpTool\"},{\"id\":\"2906\",\"type\":\"HoverTool\"}]},\"id\":\"2885\",\"type\":\"Toolbar\"}],\"root_ids\":[\"2858\"]},\"title\":\"Bokeh Application\",\"version\":\"1.2.0\"}};\n",
       "  var render_items = [{\"docid\":\"e199af80-1f53-4b77-846d-762054f1b0c3\",\"roots\":{\"2858\":\"1412d77e-eb2b-4d7d-9bee-9207f1487cfe\"}}];\n",
       "  root.Bokeh.embed.embed_items_notebook(docs_json, render_items);\n",
       "\n",
       "  }\n",
       "  if (root.Bokeh !== undefined) {\n",
       "    embed_document(root);\n",
       "  } else {\n",
       "    var attempts = 0;\n",
       "    var timer = setInterval(function(root) {\n",
       "      if (root.Bokeh !== undefined) {\n",
       "        embed_document(root);\n",
       "        clearInterval(timer);\n",
       "      }\n",
       "      attempts++;\n",
       "      if (attempts > 100) {\n",
       "        console.log(\"Bokeh: ERROR: Unable to run BokehJS code because BokehJS library is missing\");\n",
       "        clearInterval(timer);\n",
       "      }\n",
       "    }, 10, root)\n",
       "  }\n",
       "})(window);"
      ],
      "application/vnd.bokehjs_exec.v0+json": ""
     },
     "metadata": {
      "application/vnd.bokehjs_exec.v0+json": {
       "id": "2858"
      }
     },
     "output_type": "display_data"
    },
    {
     "data": {
      "text/html": [
       "\n",
       "\n",
       "\n",
       "\n",
       "\n",
       "\n",
       "  <div class=\"bk-root\" id=\"a7629849-8074-4202-92bb-0c1272a8b9d9\" data-root-id=\"3044\"></div>\n"
      ]
     },
     "metadata": {},
     "output_type": "display_data"
    },
    {
     "data": {
      "application/javascript": [
       "(function(root) {\n",
       "  function embed_document(root) {\n",
       "    \n",
       "  var docs_json = {\"3a6bfd73-a3ff-4c3c-b621-5a79b141623d\":{\"roots\":{\"references\":[{\"attributes\":{\"below\":[{\"id\":\"3055\",\"type\":\"LinearAxis\"}],\"center\":[{\"id\":\"3059\",\"type\":\"Grid\"},{\"id\":\"3064\",\"type\":\"Grid\"},{\"id\":\"3090\",\"type\":\"Legend\"}],\"left\":[{\"id\":\"3060\",\"type\":\"LinearAxis\"}],\"output_backend\":\"webgl\",\"plot_height\":300,\"plot_width\":800,\"renderers\":[{\"id\":\"3082\",\"type\":\"GlyphRenderer\"}],\"title\":{\"id\":\"3045\",\"type\":\"Title\"},\"toolbar\":{\"id\":\"3071\",\"type\":\"Toolbar\"},\"x_range\":{\"id\":\"3047\",\"type\":\"DataRange1d\"},\"x_scale\":{\"id\":\"3051\",\"type\":\"LinearScale\"},\"y_range\":{\"id\":\"3049\",\"type\":\"DataRange1d\"},\"y_scale\":{\"id\":\"3053\",\"type\":\"LinearScale\"}},\"id\":\"3044\",\"subtype\":\"Figure\",\"type\":\"Plot\"},{\"attributes\":{\"bottom\":{\"field\":\"bottom\"},\"fill_alpha\":{\"value\":0.1},\"fill_color\":{\"value\":\"#1f77b4\"},\"left\":{\"field\":\"left\"},\"line_alpha\":{\"value\":0.1},\"line_color\":{\"value\":\"#1f77b4\"},\"line_width\":{\"value\":2},\"right\":{\"field\":\"right\"},\"top\":{\"field\":\"top\"}},\"id\":\"3081\",\"type\":\"Quad\"},{\"attributes\":{},\"id\":\"3056\",\"type\":\"BasicTicker\"},{\"attributes\":{\"axis_label\":\"Age\",\"formatter\":{\"id\":\"3085\",\"type\":\"BasicTickFormatter\"},\"ticker\":{\"id\":\"3094\",\"type\":\"FixedTicker\"}},\"id\":\"3055\",\"type\":\"LinearAxis\"},{\"attributes\":{\"data_source\":{\"id\":\"3078\",\"type\":\"ColumnDataSource\"},\"glyph\":{\"id\":\"3080\",\"type\":\"Quad\"},\"hover_glyph\":null,\"muted_glyph\":null,\"nonselection_glyph\":{\"id\":\"3081\",\"type\":\"Quad\"},\"selection_glyph\":null,\"view\":{\"id\":\"3083\",\"type\":\"CDSView\"}},\"id\":\"3082\",\"type\":\"GlyphRenderer\"},{\"attributes\":{\"ticker\":{\"id\":\"3056\",\"type\":\"BasicTicker\"}},\"id\":\"3059\",\"type\":\"Grid\"},{\"attributes\":{\"source\":{\"id\":\"3078\",\"type\":\"ColumnDataSource\"}},\"id\":\"3083\",\"type\":\"CDSView\"},{\"attributes\":{\"axis_label\":\"# Passengers\",\"formatter\":{\"id\":\"3087\",\"type\":\"BasicTickFormatter\"},\"ticker\":{\"id\":\"3061\",\"type\":\"BasicTicker\"}},\"id\":\"3060\",\"type\":\"LinearAxis\"},{\"attributes\":{},\"id\":\"3061\",\"type\":\"BasicTicker\"},{\"attributes\":{},\"id\":\"3087\",\"type\":\"BasicTickFormatter\"},{\"attributes\":{\"dimension\":1,\"ticker\":{\"id\":\"3061\",\"type\":\"BasicTicker\"}},\"id\":\"3064\",\"type\":\"Grid\"},{\"attributes\":{\"bottom_units\":\"screen\",\"fill_alpha\":{\"value\":0.5},\"fill_color\":{\"value\":\"lightgrey\"},\"left_units\":\"screen\",\"level\":\"overlay\",\"line_alpha\":{\"value\":1.0},\"line_color\":{\"value\":\"black\"},\"line_dash\":[4,4],\"line_width\":{\"value\":2},\"render_mode\":\"css\",\"right_units\":\"screen\",\"top_units\":\"screen\"},\"id\":\"3089\",\"type\":\"BoxAnnotation\"},{\"attributes\":{\"click_policy\":\"hide\",\"items\":[{\"id\":\"3091\",\"type\":\"LegendItem\"}]},\"id\":\"3090\",\"type\":\"Legend\"},{\"attributes\":{},\"id\":\"3192\",\"type\":\"Selection\"},{\"attributes\":{\"label\":{\"value\":\"Age\"},\"renderers\":[{\"id\":\"3082\",\"type\":\"GlyphRenderer\"}]},\"id\":\"3091\",\"type\":\"LegendItem\"},{\"attributes\":{\"callback\":null,\"data\":{\"bins\":[\"0\\uff0d10\",\"10\\uff0d20\",\"20\\uff0d30\",\"30\\uff0d40\",\"40\\uff0d50\",\"50\\uff0d60\",\"60\\uff0d70\",\"70\\uff0d80\",\"80\\uff0d90\",\"90\\uff0d100\"],\"bottom\":[0,0,0,0,0,0,0,0,0,0],\"left\":[0,10,20,30,40,50,60,70,80,90],\"right\":[10,20,30,40,50,60,70,80,90,100],\"top\":[35,54,92,68,42,18,5,0,0,0]},\"selected\":{\"id\":\"3192\",\"type\":\"Selection\"},\"selection_policy\":{\"id\":\"3193\",\"type\":\"UnionRenderers\"}},\"id\":\"3078\",\"type\":\"ColumnDataSource\"},{\"attributes\":{\"callback\":null,\"mode\":\"vline\",\"renderers\":[{\"id\":\"3082\",\"type\":\"GlyphRenderer\"}],\"tooltips\":\"<h3> Age: </h3> <h4>bin=@bins</h4> <h4>value=@top </h4>\"},\"id\":\"3092\",\"type\":\"HoverTool\"},{\"attributes\":{},\"id\":\"3051\",\"type\":\"LinearScale\"},{\"attributes\":{},\"id\":\"3065\",\"type\":\"PanTool\"},{\"attributes\":{},\"id\":\"3066\",\"type\":\"WheelZoomTool\"},{\"attributes\":{\"callback\":null},\"id\":\"3047\",\"type\":\"DataRange1d\"},{\"attributes\":{\"overlay\":{\"id\":\"3089\",\"type\":\"BoxAnnotation\"}},\"id\":\"3067\",\"type\":\"BoxZoomTool\"},{\"attributes\":{},\"id\":\"3053\",\"type\":\"LinearScale\"},{\"attributes\":{},\"id\":\"3068\",\"type\":\"SaveTool\"},{\"attributes\":{},\"id\":\"3193\",\"type\":\"UnionRenderers\"},{\"attributes\":{},\"id\":\"3069\",\"type\":\"ResetTool\"},{\"attributes\":{\"callback\":null},\"id\":\"3049\",\"type\":\"DataRange1d\"},{\"attributes\":{},\"id\":\"3070\",\"type\":\"HelpTool\"},{\"attributes\":{\"active_drag\":\"auto\",\"active_inspect\":\"auto\",\"active_multi\":null,\"active_scroll\":{\"id\":\"3066\",\"type\":\"WheelZoomTool\"},\"active_tap\":\"auto\",\"tools\":[{\"id\":\"3065\",\"type\":\"PanTool\"},{\"id\":\"3066\",\"type\":\"WheelZoomTool\"},{\"id\":\"3067\",\"type\":\"BoxZoomTool\"},{\"id\":\"3068\",\"type\":\"SaveTool\"},{\"id\":\"3069\",\"type\":\"ResetTool\"},{\"id\":\"3070\",\"type\":\"HelpTool\"},{\"id\":\"3092\",\"type\":\"HoverTool\"}]},\"id\":\"3071\",\"type\":\"Toolbar\"},{\"attributes\":{\"ticks\":[0,10,20,30,40,50,60,70,80,90,100]},\"id\":\"3094\",\"type\":\"FixedTicker\"},{\"attributes\":{},\"id\":\"3085\",\"type\":\"BasicTickFormatter\"},{\"attributes\":{\"text\":\"\"},\"id\":\"3045\",\"type\":\"Title\"},{\"attributes\":{\"bottom\":{\"field\":\"bottom\"},\"fill_alpha\":{\"value\":0.5},\"fill_color\":{\"value\":\"pink\"},\"left\":{\"field\":\"left\"},\"line_alpha\":{\"value\":0.5},\"line_width\":{\"value\":2},\"right\":{\"field\":\"right\"},\"top\":{\"field\":\"top\"}},\"id\":\"3080\",\"type\":\"Quad\"}],\"root_ids\":[\"3044\"]},\"title\":\"Bokeh Application\",\"version\":\"1.2.0\"}};\n",
       "  var render_items = [{\"docid\":\"3a6bfd73-a3ff-4c3c-b621-5a79b141623d\",\"roots\":{\"3044\":\"a7629849-8074-4202-92bb-0c1272a8b9d9\"}}];\n",
       "  root.Bokeh.embed.embed_items_notebook(docs_json, render_items);\n",
       "\n",
       "  }\n",
       "  if (root.Bokeh !== undefined) {\n",
       "    embed_document(root);\n",
       "  } else {\n",
       "    var attempts = 0;\n",
       "    var timer = setInterval(function(root) {\n",
       "      if (root.Bokeh !== undefined) {\n",
       "        embed_document(root);\n",
       "        clearInterval(timer);\n",
       "      }\n",
       "      attempts++;\n",
       "      if (attempts > 100) {\n",
       "        console.log(\"Bokeh: ERROR: Unable to run BokehJS code because BokehJS library is missing\");\n",
       "        clearInterval(timer);\n",
       "      }\n",
       "    }, 10, root)\n",
       "  }\n",
       "})(window);"
      ],
      "application/vnd.bokehjs_exec.v0+json": ""
     },
     "metadata": {
      "application/vnd.bokehjs_exec.v0+json": {
       "id": "3044"
      }
     },
     "output_type": "display_data"
    }
   ],
   "source": [
    "df[df.Sex == \"male\"].plot.hist(\n",
    "    y=\"Age\",\n",
    "    bins=range(0, 101, 10),\n",
    "    line_color=\"black\",\n",
    "    ylabel=\"# Passengers\",\n",
    "    figsize=(800, 300),\n",
    ")\n",
    "df[df.Sex == \"female\"].plot.hist(\n",
    "    y=\"Age\",\n",
    "    bins=range(0, 101, 10),\n",
    "    line_color=\"black\",\n",
    "    ylabel=\"# Passengers\",\n",
    "    figsize=(800, 300),\n",
    "    color=\"pink\",\n",
    ")"
   ]
  },
  {
   "cell_type": "markdown",
   "metadata": {},
   "source": [
    "Of course, to compare the distributions it would make sense to plot them into just on figure. This can be done by passing the first figure to the second plot (one can suppress the plotting of the figure with the **show_figure** argument):"
   ]
  },
  {
   "cell_type": "code",
   "execution_count": 54,
   "metadata": {
    "ExecuteTime": {
     "end_time": "2019-07-26T20:31:58.761523Z",
     "start_time": "2019-07-26T20:31:58.621985Z"
    }
   },
   "outputs": [
    {
     "data": {
      "text/html": [
       "\n",
       "\n",
       "\n",
       "\n",
       "\n",
       "\n",
       "  <div class=\"bk-root\" id=\"92ed68af-8a73-40e9-a2b6-0835b940ff5b\" data-root-id=\"13908\"></div>\n"
      ]
     },
     "metadata": {},
     "output_type": "display_data"
    },
    {
     "data": {
      "application/javascript": [
       "(function(root) {\n",
       "  function embed_document(root) {\n",
       "    \n",
       "  var docs_json = {\"bfc05c8f-1fec-4f06-ae9c-a2cd43689318\":{\"roots\":{\"references\":[{\"attributes\":{\"below\":[{\"id\":\"13919\",\"type\":\"LinearAxis\"}],\"center\":[{\"id\":\"13923\",\"type\":\"Grid\"},{\"id\":\"13928\",\"type\":\"Grid\"},{\"id\":\"13954\",\"type\":\"Legend\"}],\"left\":[{\"id\":\"13924\",\"type\":\"LinearAxis\"}],\"output_backend\":\"webgl\",\"plot_height\":300,\"plot_width\":800,\"renderers\":[{\"id\":\"13946\",\"type\":\"GlyphRenderer\"},{\"id\":\"13998\",\"type\":\"GlyphRenderer\"}],\"title\":{\"id\":\"13909\",\"type\":\"Title\"},\"toolbar\":{\"id\":\"13935\",\"type\":\"Toolbar\"},\"x_range\":{\"id\":\"13911\",\"type\":\"DataRange1d\"},\"x_scale\":{\"id\":\"13915\",\"type\":\"LinearScale\"},\"y_range\":{\"id\":\"13913\",\"type\":\"DataRange1d\"},\"y_scale\":{\"id\":\"13917\",\"type\":\"LinearScale\"}},\"id\":\"13908\",\"subtype\":\"Figure\",\"type\":\"Plot\"},{\"attributes\":{\"bottom\":{\"field\":\"bottom\"},\"fill_alpha\":{\"value\":0.1},\"fill_color\":{\"value\":\"#1f77b4\"},\"left\":{\"field\":\"left\"},\"line_alpha\":{\"value\":0.1},\"line_color\":{\"value\":\"#1f77b4\"},\"line_width\":{\"value\":2},\"right\":{\"field\":\"right\"},\"top\":{\"field\":\"top\"}},\"id\":\"13945\",\"type\":\"Quad\"},{\"attributes\":{\"source\":{\"id\":\"13942\",\"type\":\"ColumnDataSource\"}},\"id\":\"13947\",\"type\":\"CDSView\"},{\"attributes\":{\"callback\":null},\"id\":\"13913\",\"type\":\"DataRange1d\"},{\"attributes\":{\"source\":{\"id\":\"13994\",\"type\":\"ColumnDataSource\"}},\"id\":\"13999\",\"type\":\"CDSView\"},{\"attributes\":{\"callback\":null,\"data\":{\"bins\":[\"0\\uff0d10\",\"10\\uff0d20\",\"20\\uff0d30\",\"30\\uff0d40\",\"40\\uff0d50\",\"50\\uff0d60\",\"60\\uff0d70\",\"70\\uff0d80\",\"80\\uff0d90\",\"90\\uff0d100\"],\"bottom\":[0,0,0,0,0,0,0,0,0,0],\"left\":[0,10,20,30,40,50,60,70,80,90],\"right\":[10,20,30,40,50,60,70,80,90,100],\"top\":[35,54,92,68,42,18,5,0,0,0]},\"selected\":{\"id\":\"14366\",\"type\":\"Selection\"},\"selection_policy\":{\"id\":\"14367\",\"type\":\"UnionRenderers\"}},\"id\":\"13994\",\"type\":\"ColumnDataSource\"},{\"attributes\":{\"ticks\":[0,10,20,30,40,50,60,70,80,90,100]},\"id\":\"14009\",\"type\":\"FixedTicker\"},{\"attributes\":{},\"id\":\"13920\",\"type\":\"BasicTicker\"},{\"attributes\":{\"overlay\":{\"id\":\"13953\",\"type\":\"BoxAnnotation\"}},\"id\":\"13931\",\"type\":\"BoxZoomTool\"},{\"attributes\":{},\"id\":\"13915\",\"type\":\"LinearScale\"},{\"attributes\":{},\"id\":\"14005\",\"type\":\"UnionRenderers\"},{\"attributes\":{\"axis_label\":\"Age\",\"formatter\":{\"id\":\"13949\",\"type\":\"BasicTickFormatter\"},\"ticker\":{\"id\":\"14009\",\"type\":\"FixedTicker\"}},\"id\":\"13919\",\"type\":\"LinearAxis\"},{\"attributes\":{},\"id\":\"13932\",\"type\":\"SaveTool\"},{\"attributes\":{\"callback\":null,\"mode\":\"vline\",\"renderers\":[{\"id\":\"13998\",\"type\":\"GlyphRenderer\"}],\"tooltips\":\"<h3> Age: </h3> <h4>bin=@bins</h4> <h4>value=@top </h4>\"},\"id\":\"14007\",\"type\":\"HoverTool\"},{\"attributes\":{\"label\":{\"value\":\"Age\"},\"renderers\":[{\"id\":\"13946\",\"type\":\"GlyphRenderer\"},{\"id\":\"13998\",\"type\":\"GlyphRenderer\"}]},\"id\":\"13955\",\"type\":\"LegendItem\"},{\"attributes\":{\"bottom\":{\"field\":\"bottom\"},\"fill_alpha\":{\"value\":0.1},\"fill_color\":{\"value\":\"#1f77b4\"},\"left\":{\"field\":\"left\"},\"line_alpha\":{\"value\":0.1},\"line_color\":{\"value\":\"#1f77b4\"},\"line_width\":{\"value\":2},\"right\":{\"field\":\"right\"},\"top\":{\"field\":\"top\"}},\"id\":\"13997\",\"type\":\"Quad\"},{\"attributes\":{},\"id\":\"13925\",\"type\":\"BasicTicker\"},{\"attributes\":{},\"id\":\"13933\",\"type\":\"ResetTool\"},{\"attributes\":{\"bottom\":{\"field\":\"bottom\"},\"fill_alpha\":{\"value\":0.5},\"fill_color\":{\"value\":\"pink\"},\"left\":{\"field\":\"left\"},\"line_alpha\":{\"value\":0.5},\"line_width\":{\"value\":2},\"right\":{\"field\":\"right\"},\"top\":{\"field\":\"top\"}},\"id\":\"13996\",\"type\":\"Quad\"},{\"attributes\":{\"callback\":null,\"data\":{\"bins\":[\"0\\uff0d10\",\"10\\uff0d20\",\"20\\uff0d30\",\"30\\uff0d40\",\"40\\uff0d50\",\"50\\uff0d60\",\"60\\uff0d70\",\"70\\uff0d80\",\"80\\uff0d90\",\"90\\uff0d100\"],\"bottom\":[0,0,0,0,0,0,0,0,0,0],\"left\":[0,10,20,30,40,50,60,70,80,90],\"right\":[10,20,30,40,50,60,70,80,90,100],\"top\":[36,74,201,131,72,33,19,6,1,0]},\"selected\":{\"id\":\"14004\",\"type\":\"Selection\"},\"selection_policy\":{\"id\":\"14005\",\"type\":\"UnionRenderers\"}},\"id\":\"13942\",\"type\":\"ColumnDataSource\"},{\"attributes\":{\"data_source\":{\"id\":\"13994\",\"type\":\"ColumnDataSource\"},\"glyph\":{\"id\":\"13996\",\"type\":\"Quad\"},\"hover_glyph\":null,\"muted_glyph\":null,\"nonselection_glyph\":{\"id\":\"13997\",\"type\":\"Quad\"},\"selection_glyph\":null,\"view\":{\"id\":\"13999\",\"type\":\"CDSView\"}},\"id\":\"13998\",\"type\":\"GlyphRenderer\"},{\"attributes\":{\"bottom_units\":\"screen\",\"fill_alpha\":{\"value\":0.5},\"fill_color\":{\"value\":\"lightgrey\"},\"left_units\":\"screen\",\"level\":\"overlay\",\"line_alpha\":{\"value\":1.0},\"line_color\":{\"value\":\"black\"},\"line_dash\":[4,4],\"line_width\":{\"value\":2},\"render_mode\":\"css\",\"right_units\":\"screen\",\"top_units\":\"screen\"},\"id\":\"13953\",\"type\":\"BoxAnnotation\"},{\"attributes\":{\"active_drag\":\"auto\",\"active_inspect\":\"auto\",\"active_multi\":null,\"active_scroll\":{\"id\":\"13930\",\"type\":\"WheelZoomTool\"},\"active_tap\":\"auto\",\"tools\":[{\"id\":\"13929\",\"type\":\"PanTool\"},{\"id\":\"13930\",\"type\":\"WheelZoomTool\"},{\"id\":\"13931\",\"type\":\"BoxZoomTool\"},{\"id\":\"13932\",\"type\":\"SaveTool\"},{\"id\":\"13933\",\"type\":\"ResetTool\"},{\"id\":\"13934\",\"type\":\"HelpTool\"},{\"id\":\"13956\",\"type\":\"HoverTool\"},{\"id\":\"14007\",\"type\":\"HoverTool\"}]},\"id\":\"13935\",\"type\":\"Toolbar\"},{\"attributes\":{},\"id\":\"13934\",\"type\":\"HelpTool\"},{\"attributes\":{},\"id\":\"13951\",\"type\":\"BasicTickFormatter\"},{\"attributes\":{\"ticker\":{\"id\":\"13920\",\"type\":\"BasicTicker\"}},\"id\":\"13923\",\"type\":\"Grid\"},{\"attributes\":{\"data_source\":{\"id\":\"13942\",\"type\":\"ColumnDataSource\"},\"glyph\":{\"id\":\"13944\",\"type\":\"Quad\"},\"hover_glyph\":null,\"muted_glyph\":null,\"nonselection_glyph\":{\"id\":\"13945\",\"type\":\"Quad\"},\"selection_glyph\":null,\"view\":{\"id\":\"13947\",\"type\":\"CDSView\"}},\"id\":\"13946\",\"type\":\"GlyphRenderer\"},{\"attributes\":{\"axis_label\":\"# Passengers\",\"formatter\":{\"id\":\"13951\",\"type\":\"BasicTickFormatter\"},\"ticker\":{\"id\":\"13925\",\"type\":\"BasicTicker\"}},\"id\":\"13924\",\"type\":\"LinearAxis\"},{\"attributes\":{},\"id\":\"14367\",\"type\":\"UnionRenderers\"},{\"attributes\":{\"bottom\":{\"field\":\"bottom\"},\"fill_alpha\":{\"value\":0.5},\"fill_color\":{\"value\":\"#1f77b4\"},\"left\":{\"field\":\"left\"},\"line_alpha\":{\"value\":0.5},\"line_width\":{\"value\":2},\"right\":{\"field\":\"right\"},\"top\":{\"field\":\"top\"}},\"id\":\"13944\",\"type\":\"Quad\"},{\"attributes\":{\"text\":\"Age distributions seperated by sex\"},\"id\":\"13909\",\"type\":\"Title\"},{\"attributes\":{\"callback\":null,\"mode\":\"vline\",\"renderers\":[{\"id\":\"13946\",\"type\":\"GlyphRenderer\"}],\"tooltips\":\"<h3> Age: </h3> <h4>bin=@bins</h4> <h4>value=@top </h4>\"},\"id\":\"13956\",\"type\":\"HoverTool\"},{\"attributes\":{},\"id\":\"13929\",\"type\":\"PanTool\"},{\"attributes\":{\"click_policy\":\"hide\",\"items\":[{\"id\":\"13955\",\"type\":\"LegendItem\"}]},\"id\":\"13954\",\"type\":\"Legend\"},{\"attributes\":{},\"id\":\"13930\",\"type\":\"WheelZoomTool\"},{\"attributes\":{\"dimension\":1,\"ticker\":{\"id\":\"13925\",\"type\":\"BasicTicker\"}},\"id\":\"13928\",\"type\":\"Grid\"},{\"attributes\":{},\"id\":\"13917\",\"type\":\"LinearScale\"},{\"attributes\":{},\"id\":\"14004\",\"type\":\"Selection\"},{\"attributes\":{},\"id\":\"14366\",\"type\":\"Selection\"},{\"attributes\":{},\"id\":\"13949\",\"type\":\"BasicTickFormatter\"},{\"attributes\":{\"callback\":null},\"id\":\"13911\",\"type\":\"DataRange1d\"}],\"root_ids\":[\"13908\"]},\"title\":\"Bokeh Application\",\"version\":\"1.2.0\"}};\n",
       "  var render_items = [{\"docid\":\"bfc05c8f-1fec-4f06-ae9c-a2cd43689318\",\"roots\":{\"13908\":\"92ed68af-8a73-40e9-a2b6-0835b940ff5b\"}}];\n",
       "  root.Bokeh.embed.embed_items_notebook(docs_json, render_items);\n",
       "\n",
       "  }\n",
       "  if (root.Bokeh !== undefined) {\n",
       "    embed_document(root);\n",
       "  } else {\n",
       "    var attempts = 0;\n",
       "    var timer = setInterval(function(root) {\n",
       "      if (root.Bokeh !== undefined) {\n",
       "        embed_document(root);\n",
       "        clearInterval(timer);\n",
       "      }\n",
       "      attempts++;\n",
       "      if (attempts > 100) {\n",
       "        console.log(\"Bokeh: ERROR: Unable to run BokehJS code because BokehJS library is missing\");\n",
       "        clearInterval(timer);\n",
       "      }\n",
       "    }, 10, root)\n",
       "  }\n",
       "})(window);"
      ],
      "application/vnd.bokehjs_exec.v0+json": ""
     },
     "metadata": {
      "application/vnd.bokehjs_exec.v0+json": {
       "id": "13908"
      }
     },
     "output_type": "display_data"
    }
   ],
   "source": [
    "# Create first plot (suppress plotting):\n",
    "p_hist_1 = df[df.Sex == \"male\"].plot.hist(\n",
    "    y=\"Age\",\n",
    "    bins=range(0, 101, 10),\n",
    "    line_color=\"black\",\n",
    "    ylabel=\"# Passengers\",\n",
    "    title=\"Age distributions seperated by sex\",\n",
    "    figsize=(800, 300),\n",
    "    alpha=0.5,\n",
    "    show_figure=False,\n",
    ")\n",
    "\n",
    "# Plot second plot on first figure:\n",
    "p_hist_2 = df[df.Sex == \"female\"].plot.hist(\n",
    "    figure=p_hist_1,\n",
    "    y=\"Age\",\n",
    "    bins=range(0, 101, 10),\n",
    "    line_color=\"black\",\n",
    "    figsize=(800, 300),\n",
    "    color=\"pink\",\n",
    "    alpha=0.5,\n",
    "    show_figure=False,\n",
    ")\n",
    "\n",
    "# Finally show the plot using show method:\n",
    "pd.plotting.show(p_hist_2)"
   ]
  },
  {
   "cell_type": "markdown",
   "metadata": {
    "ExecuteTime": {
     "end_time": "2019-07-26T20:24:04.563231Z",
     "start_time": "2019-07-26T20:24:04.559756Z"
    }
   },
   "source": [
    "Now, we can clearly see that there are way more male passengers than female passengers in the dataset and also that the male passengers tend to be a bit older.\n",
    "\n",
    "Let us go one step further and:\n",
    "\n",
    "* norm the distributions\n",
    "* add the average of the distributions\n",
    "\n",
    "We can also use the plot_grid method to easily create dashboard layouts as shown below:"
   ]
  },
  {
   "cell_type": "code",
   "execution_count": 55,
   "metadata": {
    "ExecuteTime": {
     "end_time": "2019-07-26T20:32:02.039771Z",
     "start_time": "2019-07-26T20:32:01.849527Z"
    }
   },
   "outputs": [
    {
     "data": {
      "text/html": [
       "\n",
       "\n",
       "\n",
       "\n",
       "\n",
       "\n",
       "  <div class=\"bk-root\" id=\"5101d902-6405-45e1-9625-8f0ac418f378\" data-root-id=\"14628\"></div>\n"
      ]
     },
     "metadata": {},
     "output_type": "display_data"
    },
    {
     "data": {
      "application/javascript": [
       "(function(root) {\n",
       "  function embed_document(root) {\n",
       "    \n",
       "  var docs_json = {\"5c0fc2eb-c12d-44c1-9bba-df982b5314f0\":{\"roots\":{\"references\":[{\"attributes\":{\"children\":[{\"id\":\"14627\",\"type\":\"ToolbarBox\"},{\"id\":\"14625\",\"type\":\"GridBox\"}]},\"id\":\"14628\",\"type\":\"Column\"},{\"attributes\":{\"source\":{\"id\":\"13994\",\"type\":\"ColumnDataSource\"}},\"id\":\"13999\",\"type\":\"CDSView\"},{\"attributes\":{\"callback\":null,\"data\":{\"bins\":[\"0\\uff0d10\",\"10\\uff0d20\",\"20\\uff0d30\",\"30\\uff0d40\",\"40\\uff0d50\",\"50\\uff0d60\",\"60\\uff0d70\",\"70\\uff0d80\",\"80\\uff0d90\",\"90\\uff0d100\"],\"bottom\":[0,0,0,0,0,0,0,0,0,0],\"left\":[0,10,20,30,40,50,60,70,80,90],\"right\":[10,20,30,40,50,60,70,80,90,100],\"top\":[35,54,92,68,42,18,5,0,0,0]},\"selected\":{\"id\":\"14366\",\"type\":\"Selection\"},\"selection_policy\":{\"id\":\"14367\",\"type\":\"UnionRenderers\"}},\"id\":\"13994\",\"type\":\"ColumnDataSource\"},{\"attributes\":{\"angle\":{\"units\":\"rad\",\"value\":-1.5707963267948966},\"length\":{\"units\":\"data\",\"value\":0},\"line_alpha\":{\"value\":0.1},\"line_color\":{\"value\":\"#1f77b4\"},\"line_width\":{\"value\":3},\"x\":{\"field\":\"x\"},\"y\":{\"field\":\"y\"}},\"id\":\"14489\",\"type\":\"Ray\"},{\"attributes\":{\"dimension\":1,\"ticker\":{\"id\":\"14440\",\"type\":\"BasicTicker\"}},\"id\":\"14443\",\"type\":\"Grid\"},{\"attributes\":{\"ticks\":[0,10,20,30,40,50,60,70,80,90,100]},\"id\":\"14009\",\"type\":\"FixedTicker\"},{\"attributes\":{\"callback\":null,\"mode\":\"vline\",\"renderers\":[{\"id\":\"14461\",\"type\":\"GlyphRenderer\"}],\"tooltips\":\"<h3> Age: </h3> <h4>bin=@bins</h4> <h4>value=@top </h4>\"},\"id\":\"14471\",\"type\":\"HoverTool\"},{\"attributes\":{\"bottom_units\":\"screen\",\"fill_alpha\":{\"value\":0.5},\"fill_color\":{\"value\":\"lightgrey\"},\"left_units\":\"screen\",\"level\":\"overlay\",\"line_alpha\":{\"value\":1.0},\"line_color\":{\"value\":\"black\"},\"line_dash\":[4,4],\"line_width\":{\"value\":2},\"render_mode\":\"css\",\"right_units\":\"screen\",\"top_units\":\"screen\"},\"id\":\"14468\",\"type\":\"BoxAnnotation\"},{\"attributes\":{},\"id\":\"14005\",\"type\":\"UnionRenderers\"},{\"attributes\":{\"callback\":null,\"mode\":\"vline\",\"renderers\":[{\"id\":\"13998\",\"type\":\"GlyphRenderer\"}],\"tooltips\":\"<h3> Age: </h3> <h4>bin=@bins</h4> <h4>value=@top </h4>\"},\"id\":\"14007\",\"type\":\"HoverTool\"},{\"attributes\":{\"source\":{\"id\":\"14487\",\"type\":\"ColumnDataSource\"}},\"id\":\"14491\",\"type\":\"CDSView\"},{\"attributes\":{\"axis_label\":\"Age\",\"formatter\":{\"id\":\"14464\",\"type\":\"BasicTickFormatter\"},\"ticker\":{\"id\":\"14596\",\"type\":\"FixedTicker\"}},\"id\":\"14434\",\"type\":\"LinearAxis\"},{\"attributes\":{},\"id\":\"14440\",\"type\":\"BasicTicker\"},{\"attributes\":{},\"id\":\"14466\",\"type\":\"BasicTickFormatter\"},{\"attributes\":{\"data_source\":{\"id\":\"13994\",\"type\":\"ColumnDataSource\"},\"glyph\":{\"id\":\"13996\",\"type\":\"Quad\"},\"hover_glyph\":null,\"muted_glyph\":null,\"nonselection_glyph\":{\"id\":\"13997\",\"type\":\"Quad\"},\"selection_glyph\":null,\"view\":{\"id\":\"13999\",\"type\":\"CDSView\"}},\"id\":\"13998\",\"type\":\"GlyphRenderer\"},{\"attributes\":{\"callback\":null,\"data\":{\"x\":[30.4313612565445],\"y\":[0]},\"selected\":{\"id\":\"14499\",\"type\":\"Selection\"},\"selection_policy\":{\"id\":\"14500\",\"type\":\"UnionRenderers\"}},\"id\":\"14473\",\"type\":\"ColumnDataSource\"},{\"attributes\":{\"label\":{\"value\":\"Age\"},\"renderers\":[{\"id\":\"14461\",\"type\":\"GlyphRenderer\"},{\"id\":\"14542\",\"type\":\"GlyphRenderer\"}]},\"id\":\"14470\",\"type\":\"LegendItem\"},{\"attributes\":{\"below\":[{\"id\":\"14434\",\"type\":\"LinearAxis\"}],\"center\":[{\"id\":\"14438\",\"type\":\"Grid\"},{\"id\":\"14443\",\"type\":\"Grid\"},{\"id\":\"14469\",\"type\":\"Legend\"}],\"left\":[{\"id\":\"14439\",\"type\":\"LinearAxis\"}],\"output_backend\":\"webgl\",\"plot_height\":300,\"plot_width\":450,\"renderers\":[{\"id\":\"14461\",\"type\":\"GlyphRenderer\"},{\"id\":\"14476\",\"type\":\"GlyphRenderer\"},{\"id\":\"14490\",\"type\":\"GlyphRenderer\"},{\"id\":\"14542\",\"type\":\"GlyphRenderer\"},{\"id\":\"14560\",\"type\":\"GlyphRenderer\"},{\"id\":\"14579\",\"type\":\"GlyphRenderer\"}],\"title\":{\"id\":\"14424\",\"type\":\"Title\"},\"toolbar\":{\"id\":\"14450\",\"type\":\"Toolbar\"},\"toolbar_location\":null,\"x_range\":{\"id\":\"14426\",\"type\":\"DataRange1d\"},\"x_scale\":{\"id\":\"14430\",\"type\":\"LinearScale\"},\"y_range\":{\"id\":\"14428\",\"type\":\"DataRange1d\"},\"y_scale\":{\"id\":\"14432\",\"type\":\"LinearScale\"}},\"id\":\"14423\",\"subtype\":\"Figure\",\"type\":\"Plot\"},{\"attributes\":{\"data_source\":{\"id\":\"14487\",\"type\":\"ColumnDataSource\"},\"glyph\":{\"id\":\"14488\",\"type\":\"Ray\"},\"hover_glyph\":null,\"muted_glyph\":null,\"nonselection_glyph\":{\"id\":\"14489\",\"type\":\"Ray\"},\"selection_glyph\":null,\"view\":{\"id\":\"14491\",\"type\":\"CDSView\"}},\"id\":\"14490\",\"type\":\"GlyphRenderer\"},{\"attributes\":{\"angle\":{\"units\":\"rad\",\"value\":1.5707963267948966},\"length\":{\"units\":\"data\",\"value\":0},\"line_color\":{\"value\":\"#1f77b4\"},\"line_width\":{\"value\":3},\"x\":{\"field\":\"x\"},\"y\":{\"field\":\"y\"}},\"id\":\"14474\",\"type\":\"Ray\"},{\"attributes\":{\"data_source\":{\"id\":\"13942\",\"type\":\"ColumnDataSource\"},\"glyph\":{\"id\":\"13944\",\"type\":\"Quad\"},\"hover_glyph\":null,\"muted_glyph\":null,\"nonselection_glyph\":{\"id\":\"13945\",\"type\":\"Quad\"},\"selection_glyph\":null,\"view\":{\"id\":\"13947\",\"type\":\"CDSView\"}},\"id\":\"13946\",\"type\":\"GlyphRenderer\"},{\"attributes\":{\"click_policy\":\"hide\",\"items\":[{\"id\":\"14470\",\"type\":\"LegendItem\"},{\"id\":\"14486\",\"type\":\"LegendItem\"},{\"id\":\"14575\",\"type\":\"LegendItem\"}]},\"id\":\"14469\",\"type\":\"Legend\"},{\"attributes\":{},\"id\":\"14499\",\"type\":\"Selection\"},{\"attributes\":{\"axis_label\":\"# Passengers\",\"formatter\":{\"id\":\"13951\",\"type\":\"BasicTickFormatter\"},\"ticker\":{\"id\":\"13925\",\"type\":\"BasicTicker\"}},\"id\":\"13924\",\"type\":\"LinearAxis\"},{\"attributes\":{\"callback\":null,\"mode\":\"vline\",\"renderers\":[{\"id\":\"13946\",\"type\":\"GlyphRenderer\"}],\"tooltips\":\"<h3> Age: </h3> <h4>bin=@bins</h4> <h4>value=@top </h4>\"},\"id\":\"13956\",\"type\":\"HoverTool\"},{\"attributes\":{\"bottom\":{\"field\":\"bottom\"},\"fill_alpha\":{\"value\":0.5},\"fill_color\":{\"value\":\"#1f77b4\"},\"left\":{\"field\":\"left\"},\"line_alpha\":{\"value\":0.5},\"line_width\":{\"value\":2},\"right\":{\"field\":\"right\"},\"top\":{\"field\":\"top\"}},\"id\":\"13944\",\"type\":\"Quad\"},{\"attributes\":{\"data_source\":{\"id\":\"14473\",\"type\":\"ColumnDataSource\"},\"glyph\":{\"id\":\"14474\",\"type\":\"Ray\"},\"hover_glyph\":null,\"muted_glyph\":null,\"nonselection_glyph\":{\"id\":\"14475\",\"type\":\"Ray\"},\"selection_glyph\":null,\"view\":{\"id\":\"14477\",\"type\":\"CDSView\"}},\"id\":\"14476\",\"type\":\"GlyphRenderer\"},{\"attributes\":{},\"id\":\"13949\",\"type\":\"BasicTickFormatter\"},{\"attributes\":{\"bottom\":{\"field\":\"bottom\"},\"fill_alpha\":{\"value\":0.1},\"fill_color\":{\"value\":\"#1f77b4\"},\"left\":{\"field\":\"left\"},\"line_alpha\":{\"value\":0.1},\"line_color\":{\"value\":\"#1f77b4\"},\"line_width\":{\"value\":2},\"right\":{\"field\":\"right\"},\"top\":{\"field\":\"top\"}},\"id\":\"13945\",\"type\":\"Quad\"},{\"attributes\":{\"children\":[[{\"id\":\"13908\",\"subtype\":\"Figure\",\"type\":\"Plot\"},0,0],[{\"id\":\"14423\",\"subtype\":\"Figure\",\"type\":\"Plot\"},0,1]]},\"id\":\"14625\",\"type\":\"GridBox\"},{\"attributes\":{\"overlay\":{\"id\":\"13953\",\"type\":\"BoxAnnotation\"}},\"id\":\"13931\",\"type\":\"BoxZoomTool\"},{\"attributes\":{},\"id\":\"13932\",\"type\":\"SaveTool\"},{\"attributes\":{\"label\":{\"value\":\"Age\"},\"renderers\":[{\"id\":\"13946\",\"type\":\"GlyphRenderer\"},{\"id\":\"13998\",\"type\":\"GlyphRenderer\"}]},\"id\":\"13955\",\"type\":\"LegendItem\"},{\"attributes\":{},\"id\":\"13933\",\"type\":\"ResetTool\"},{\"attributes\":{\"axis_label\":\"Passengers (%)\",\"formatter\":{\"id\":\"14466\",\"type\":\"BasicTickFormatter\"},\"ticker\":{\"id\":\"14440\",\"type\":\"BasicTicker\"}},\"id\":\"14439\",\"type\":\"LinearAxis\"},{\"attributes\":{\"text\":\"Normed age distributions seperated by sex\"},\"id\":\"14424\",\"type\":\"Title\"},{\"attributes\":{\"active_drag\":\"auto\",\"active_inspect\":\"auto\",\"active_multi\":null,\"active_scroll\":{\"id\":\"13930\",\"type\":\"WheelZoomTool\"},\"active_tap\":\"auto\",\"tools\":[{\"id\":\"13929\",\"type\":\"PanTool\"},{\"id\":\"13930\",\"type\":\"WheelZoomTool\"},{\"id\":\"13931\",\"type\":\"BoxZoomTool\"},{\"id\":\"13932\",\"type\":\"SaveTool\"},{\"id\":\"13933\",\"type\":\"ResetTool\"},{\"id\":\"13934\",\"type\":\"HelpTool\"},{\"id\":\"13956\",\"type\":\"HoverTool\"},{\"id\":\"14007\",\"type\":\"HoverTool\"}]},\"id\":\"13935\",\"type\":\"Toolbar\"},{\"attributes\":{},\"id\":\"13934\",\"type\":\"HelpTool\"},{\"attributes\":{\"callback\":null},\"id\":\"14428\",\"type\":\"DataRange1d\"},{\"attributes\":{\"source\":{\"id\":\"14473\",\"type\":\"ColumnDataSource\"}},\"id\":\"14477\",\"type\":\"CDSView\"},{\"attributes\":{\"callback\":null},\"id\":\"14426\",\"type\":\"DataRange1d\"},{\"attributes\":{\"text\":\"Age distributions seperated by sex\"},\"id\":\"13909\",\"type\":\"Title\"},{\"attributes\":{},\"id\":\"14621\",\"type\":\"Selection\"},{\"attributes\":{},\"id\":\"14432\",\"type\":\"LinearScale\"},{\"attributes\":{},\"id\":\"14435\",\"type\":\"BasicTicker\"},{\"attributes\":{\"angle\":{\"units\":\"rad\",\"value\":1.5707963267948966},\"length\":{\"units\":\"data\",\"value\":0},\"line_alpha\":{\"value\":0.1},\"line_color\":{\"value\":\"#1f77b4\"},\"line_width\":{\"value\":3},\"x\":{\"field\":\"x\"},\"y\":{\"field\":\"y\"}},\"id\":\"14475\",\"type\":\"Ray\"},{\"attributes\":{},\"id\":\"14464\",\"type\":\"BasicTickFormatter\"},{\"attributes\":{\"data_source\":{\"id\":\"14457\",\"type\":\"ColumnDataSource\"},\"glyph\":{\"id\":\"14459\",\"type\":\"Quad\"},\"hover_glyph\":null,\"muted_glyph\":null,\"nonselection_glyph\":{\"id\":\"14460\",\"type\":\"Quad\"},\"selection_glyph\":null,\"view\":{\"id\":\"14462\",\"type\":\"CDSView\"}},\"id\":\"14461\",\"type\":\"GlyphRenderer\"},{\"attributes\":{},\"id\":\"14430\",\"type\":\"LinearScale\"},{\"attributes\":{\"ticker\":{\"id\":\"14435\",\"type\":\"BasicTicker\"}},\"id\":\"14438\",\"type\":\"Grid\"},{\"attributes\":{\"toolbar\":{\"id\":\"14626\",\"type\":\"ProxyToolbar\"},\"toolbar_location\":\"above\"},\"id\":\"14627\",\"type\":\"ToolbarBox\"},{\"attributes\":{\"source\":{\"id\":\"13942\",\"type\":\"ColumnDataSource\"}},\"id\":\"13947\",\"type\":\"CDSView\"},{\"attributes\":{\"callback\":null,\"data\":{\"x\":[27.719745222929937],\"y\":[0]},\"selected\":{\"id\":\"14593\",\"type\":\"Selection\"},\"selection_policy\":{\"id\":\"14594\",\"type\":\"UnionRenderers\"}},\"id\":\"14557\",\"type\":\"ColumnDataSource\"},{\"attributes\":{},\"id\":\"14444\",\"type\":\"PanTool\"},{\"attributes\":{\"angle\":{\"units\":\"rad\",\"value\":1.5707963267948966},\"length\":{\"units\":\"data\",\"value\":0},\"line_color\":{\"value\":\"pink\"},\"line_width\":{\"value\":3},\"x\":{\"field\":\"x\"},\"y\":{\"field\":\"y\"}},\"id\":\"14558\",\"type\":\"Ray\"},{\"attributes\":{},\"id\":\"14445\",\"type\":\"WheelZoomTool\"},{\"attributes\":{\"angle\":{\"units\":\"rad\",\"value\":1.5707963267948966},\"length\":{\"units\":\"data\",\"value\":0},\"line_alpha\":{\"value\":0.1},\"line_color\":{\"value\":\"#1f77b4\"},\"line_width\":{\"value\":3},\"x\":{\"field\":\"x\"},\"y\":{\"field\":\"y\"}},\"id\":\"14559\",\"type\":\"Ray\"},{\"attributes\":{\"overlay\":{\"id\":\"14468\",\"type\":\"BoxAnnotation\"}},\"id\":\"14446\",\"type\":\"BoxZoomTool\"},{\"attributes\":{\"angle\":{\"units\":\"rad\",\"value\":-1.5707963267948966},\"length\":{\"units\":\"data\",\"value\":0},\"line_color\":{\"value\":\"#1f77b4\"},\"line_width\":{\"value\":3},\"x\":{\"field\":\"x\"},\"y\":{\"field\":\"y\"}},\"id\":\"14488\",\"type\":\"Ray\"},{\"attributes\":{},\"id\":\"14483\",\"type\":\"Selection\"},{\"attributes\":{\"data_source\":{\"id\":\"14557\",\"type\":\"ColumnDataSource\"},\"glyph\":{\"id\":\"14558\",\"type\":\"Ray\"},\"hover_glyph\":null,\"muted_glyph\":null,\"nonselection_glyph\":{\"id\":\"14559\",\"type\":\"Ray\"},\"selection_glyph\":null,\"view\":{\"id\":\"14561\",\"type\":\"CDSView\"}},\"id\":\"14560\",\"type\":\"GlyphRenderer\"},{\"attributes\":{\"bottom\":{\"field\":\"bottom\"},\"fill_alpha\":{\"value\":0.1},\"fill_color\":{\"value\":\"#1f77b4\"},\"left\":{\"field\":\"left\"},\"line_alpha\":{\"value\":0.1},\"line_color\":{\"value\":\"#1f77b4\"},\"line_width\":{\"value\":2},\"right\":{\"field\":\"right\"},\"top\":{\"field\":\"top\"}},\"id\":\"13997\",\"type\":\"Quad\"},{\"attributes\":{},\"id\":\"14484\",\"type\":\"UnionRenderers\"},{\"attributes\":{},\"id\":\"14447\",\"type\":\"SaveTool\"},{\"attributes\":{\"bottom\":{\"field\":\"bottom\"},\"fill_alpha\":{\"value\":0.1},\"fill_color\":{\"value\":\"#1f77b4\"},\"left\":{\"field\":\"left\"},\"line_alpha\":{\"value\":0.1},\"line_color\":{\"value\":\"#1f77b4\"},\"line_width\":{\"value\":2},\"right\":{\"field\":\"right\"},\"top\":{\"field\":\"top\"}},\"id\":\"14460\",\"type\":\"Quad\"},{\"attributes\":{\"source\":{\"id\":\"14557\",\"type\":\"ColumnDataSource\"}},\"id\":\"14561\",\"type\":\"CDSView\"},{\"attributes\":{},\"id\":\"14448\",\"type\":\"ResetTool\"},{\"attributes\":{\"bottom\":{\"field\":\"bottom\"},\"fill_alpha\":{\"value\":0.5},\"fill_color\":{\"value\":\"pink\"},\"left\":{\"field\":\"left\"},\"line_alpha\":{\"value\":0.5},\"line_width\":{\"value\":2},\"right\":{\"field\":\"right\"},\"top\":{\"field\":\"top\"}},\"id\":\"13996\",\"type\":\"Quad\"},{\"attributes\":{},\"id\":\"14572\",\"type\":\"Selection\"},{\"attributes\":{},\"id\":\"14449\",\"type\":\"HelpTool\"},{\"attributes\":{\"callback\":null,\"data\":{\"bins\":[\"0\\uff0d10\",\"10\\uff0d20\",\"20\\uff0d30\",\"30\\uff0d40\",\"40\\uff0d50\",\"50\\uff0d60\",\"60\\uff0d70\",\"70\\uff0d80\",\"80\\uff0d90\",\"90\\uff0d100\"],\"bottom\":[0,0,0,0,0,0,0,0,0,0],\"left\":[0,10,20,30,40,50,60,70,80,90],\"right\":[10,20,30,40,50,60,70,80,90,100],\"top\":[36,74,201,131,72,33,19,6,1,0]},\"selected\":{\"id\":\"14004\",\"type\":\"Selection\"},\"selection_policy\":{\"id\":\"14005\",\"type\":\"UnionRenderers\"}},\"id\":\"13942\",\"type\":\"ColumnDataSource\"},{\"attributes\":{\"bottom_units\":\"screen\",\"fill_alpha\":{\"value\":0.5},\"fill_color\":{\"value\":\"lightgrey\"},\"left_units\":\"screen\",\"level\":\"overlay\",\"line_alpha\":{\"value\":1.0},\"line_color\":{\"value\":\"black\"},\"line_dash\":[4,4],\"line_width\":{\"value\":2},\"render_mode\":\"css\",\"right_units\":\"screen\",\"top_units\":\"screen\"},\"id\":\"13953\",\"type\":\"BoxAnnotation\"},{\"attributes\":{},\"id\":\"14573\",\"type\":\"UnionRenderers\"},{\"attributes\":{\"label\":{\"value\":\"<Age> = 27.719745\"},\"renderers\":[{\"id\":\"14560\",\"type\":\"GlyphRenderer\"},{\"id\":\"14579\",\"type\":\"GlyphRenderer\"}]},\"id\":\"14575\",\"type\":\"LegendItem\"},{\"attributes\":{\"callback\":null,\"data\":{\"x\":[30.4313612565445],\"y\":[0]},\"selected\":{\"id\":\"14552\",\"type\":\"Selection\"},\"selection_policy\":{\"id\":\"14553\",\"type\":\"UnionRenderers\"}},\"id\":\"14487\",\"type\":\"ColumnDataSource\"},{\"attributes\":{},\"id\":\"13951\",\"type\":\"BasicTickFormatter\"},{\"attributes\":{\"callback\":null,\"data\":{\"x\":[27.719745222929937],\"y\":[0]},\"selected\":{\"id\":\"14621\",\"type\":\"Selection\"},\"selection_policy\":{\"id\":\"14622\",\"type\":\"UnionRenderers\"}},\"id\":\"14576\",\"type\":\"ColumnDataSource\"},{\"attributes\":{\"active_drag\":\"auto\",\"active_inspect\":\"auto\",\"active_multi\":null,\"active_scroll\":{\"id\":\"14445\",\"type\":\"WheelZoomTool\"},\"active_tap\":\"auto\",\"tools\":[{\"id\":\"14444\",\"type\":\"PanTool\"},{\"id\":\"14445\",\"type\":\"WheelZoomTool\"},{\"id\":\"14446\",\"type\":\"BoxZoomTool\"},{\"id\":\"14447\",\"type\":\"SaveTool\"},{\"id\":\"14448\",\"type\":\"ResetTool\"},{\"id\":\"14449\",\"type\":\"HelpTool\"},{\"id\":\"14471\",\"type\":\"HoverTool\"},{\"id\":\"14555\",\"type\":\"HoverTool\"}]},\"id\":\"14450\",\"type\":\"Toolbar\"},{\"attributes\":{\"angle\":{\"units\":\"rad\",\"value\":-1.5707963267948966},\"length\":{\"units\":\"data\",\"value\":0},\"line_color\":{\"value\":\"pink\"},\"line_width\":{\"value\":3},\"x\":{\"field\":\"x\"},\"y\":{\"field\":\"y\"}},\"id\":\"14577\",\"type\":\"Ray\"},{\"attributes\":{\"angle\":{\"units\":\"rad\",\"value\":-1.5707963267948966},\"length\":{\"units\":\"data\",\"value\":0},\"line_alpha\":{\"value\":0.1},\"line_color\":{\"value\":\"#1f77b4\"},\"line_width\":{\"value\":3},\"x\":{\"field\":\"x\"},\"y\":{\"field\":\"y\"}},\"id\":\"14578\",\"type\":\"Ray\"},{\"attributes\":{\"data_source\":{\"id\":\"14576\",\"type\":\"ColumnDataSource\"},\"glyph\":{\"id\":\"14577\",\"type\":\"Ray\"},\"hover_glyph\":null,\"muted_glyph\":null,\"nonselection_glyph\":{\"id\":\"14578\",\"type\":\"Ray\"},\"selection_glyph\":null,\"view\":{\"id\":\"14580\",\"type\":\"CDSView\"}},\"id\":\"14579\",\"type\":\"GlyphRenderer\"},{\"attributes\":{},\"id\":\"14367\",\"type\":\"UnionRenderers\"},{\"attributes\":{\"source\":{\"id\":\"14576\",\"type\":\"ColumnDataSource\"}},\"id\":\"14580\",\"type\":\"CDSView\"},{\"attributes\":{},\"id\":\"13929\",\"type\":\"PanTool\"},{\"attributes\":{},\"id\":\"14593\",\"type\":\"Selection\"},{\"attributes\":{},\"id\":\"13917\",\"type\":\"LinearScale\"},{\"attributes\":{},\"id\":\"14594\",\"type\":\"UnionRenderers\"},{\"attributes\":{\"callback\":null},\"id\":\"13911\",\"type\":\"DataRange1d\"},{\"attributes\":{\"callback\":null},\"id\":\"13913\",\"type\":\"DataRange1d\"},{\"attributes\":{},\"id\":\"14622\",\"type\":\"UnionRenderers\"},{\"attributes\":{\"tools\":[{\"id\":\"13929\",\"type\":\"PanTool\"},{\"id\":\"13930\",\"type\":\"WheelZoomTool\"},{\"id\":\"13931\",\"type\":\"BoxZoomTool\"},{\"id\":\"13932\",\"type\":\"SaveTool\"},{\"id\":\"13933\",\"type\":\"ResetTool\"},{\"id\":\"13934\",\"type\":\"HelpTool\"},{\"id\":\"13956\",\"type\":\"HoverTool\"},{\"id\":\"14007\",\"type\":\"HoverTool\"},{\"id\":\"14444\",\"type\":\"PanTool\"},{\"id\":\"14445\",\"type\":\"WheelZoomTool\"},{\"id\":\"14446\",\"type\":\"BoxZoomTool\"},{\"id\":\"14447\",\"type\":\"SaveTool\"},{\"id\":\"14448\",\"type\":\"ResetTool\"},{\"id\":\"14449\",\"type\":\"HelpTool\"},{\"id\":\"14471\",\"type\":\"HoverTool\"},{\"id\":\"14555\",\"type\":\"HoverTool\"}]},\"id\":\"14626\",\"type\":\"ProxyToolbar\"},{\"attributes\":{},\"id\":\"13920\",\"type\":\"BasicTicker\"},{\"attributes\":{\"source\":{\"id\":\"14457\",\"type\":\"ColumnDataSource\"}},\"id\":\"14462\",\"type\":\"CDSView\"},{\"attributes\":{},\"id\":\"13915\",\"type\":\"LinearScale\"},{\"attributes\":{\"callback\":null,\"data\":{\"bins\":[\"0\\uff0d10\",\"10\\uff0d20\",\"20\\uff0d30\",\"30\\uff0d40\",\"40\\uff0d50\",\"50\\uff0d60\",\"60\\uff0d70\",\"70\\uff0d80\",\"80\\uff0d90\",\"90\\uff0d100\"],\"bottom\":[0,0,0,0,0,0,0,0,0,0],\"left\":[0,10,20,30,40,50,60,70,80,90],\"right\":[10,20,30,40,50,60,70,80,90,100],\"top\":{\"__ndarray__\":\"mD9toQFLJkDxXLM6jDIxQDzXrA6jTD1AQwOW9PKnNUDp5U9baMAqQO17RE4Q7hZAQG2hAUt6+T8AAAAAAAAAAAAAAAAAAAAAAAAAAAAAAAA=\",\"dtype\":\"float64\",\"shape\":[10]}},\"selected\":{\"id\":\"14572\",\"type\":\"Selection\"},\"selection_policy\":{\"id\":\"14573\",\"type\":\"UnionRenderers\"}},\"id\":\"14538\",\"type\":\"ColumnDataSource\"},{\"attributes\":{\"axis_label\":\"Age\",\"formatter\":{\"id\":\"13949\",\"type\":\"BasicTickFormatter\"},\"ticker\":{\"id\":\"14009\",\"type\":\"FixedTicker\"}},\"id\":\"13919\",\"type\":\"LinearAxis\"},{\"attributes\":{},\"id\":\"13925\",\"type\":\"BasicTicker\"},{\"attributes\":{},\"id\":\"14500\",\"type\":\"UnionRenderers\"},{\"attributes\":{\"callback\":null,\"mode\":\"vline\",\"renderers\":[{\"id\":\"14542\",\"type\":\"GlyphRenderer\"}],\"tooltips\":\"<h3> Age: </h3> <h4>bin=@bins</h4> <h4>value=@top </h4>\"},\"id\":\"14555\",\"type\":\"HoverTool\"},{\"attributes\":{\"callback\":null,\"data\":{\"bins\":[\"0\\uff0d10\",\"10\\uff0d20\",\"20\\uff0d30\",\"30\\uff0d40\",\"40\\uff0d50\",\"50\\uff0d60\",\"60\\uff0d70\",\"70\\uff0d80\",\"80\\uff0d90\",\"90\\uff0d100\"],\"bottom\":[0,0,0,0,0,0,0,0,0,0],\"left\":[0,10,20,30,40,50,60,70,80,90],\"right\":[10,20,30,40,50,60,70,80,90,100],\"top\":{\"__ndarray__\":\"pz2uAoIhGUB6hk9mN9QpQLJFNGcNikFA+hDifrTcNkCnPa4CgiEpQC9jytdhCRdATs/wyeyGCkDF0x5XAcHwP1waKXSsVsY/AAAAAAAAAAA=\",\"dtype\":\"float64\",\"shape\":[10]}},\"selected\":{\"id\":\"14483\",\"type\":\"Selection\"},\"selection_policy\":{\"id\":\"14484\",\"type\":\"UnionRenderers\"}},\"id\":\"14457\",\"type\":\"ColumnDataSource\"},{\"attributes\":{\"ticks\":[0,10,20,30,40,50,60,70,80,90,100]},\"id\":\"14596\",\"type\":\"FixedTicker\"},{\"attributes\":{\"below\":[{\"id\":\"13919\",\"type\":\"LinearAxis\"}],\"center\":[{\"id\":\"13923\",\"type\":\"Grid\"},{\"id\":\"13928\",\"type\":\"Grid\"},{\"id\":\"13954\",\"type\":\"Legend\"}],\"left\":[{\"id\":\"13924\",\"type\":\"LinearAxis\"}],\"output_backend\":\"webgl\",\"plot_height\":300,\"plot_width\":450,\"renderers\":[{\"id\":\"13946\",\"type\":\"GlyphRenderer\"},{\"id\":\"13998\",\"type\":\"GlyphRenderer\"}],\"title\":{\"id\":\"13909\",\"type\":\"Title\"},\"toolbar\":{\"id\":\"13935\",\"type\":\"Toolbar\"},\"toolbar_location\":null,\"x_range\":{\"id\":\"13911\",\"type\":\"DataRange1d\"},\"x_scale\":{\"id\":\"13915\",\"type\":\"LinearScale\"},\"y_range\":{\"id\":\"13913\",\"type\":\"DataRange1d\"},\"y_scale\":{\"id\":\"13917\",\"type\":\"LinearScale\"}},\"id\":\"13908\",\"subtype\":\"Figure\",\"type\":\"Plot\"},{\"attributes\":{\"ticker\":{\"id\":\"13920\",\"type\":\"BasicTicker\"}},\"id\":\"13923\",\"type\":\"Grid\"},{\"attributes\":{},\"id\":\"14552\",\"type\":\"Selection\"},{\"attributes\":{\"bottom\":{\"field\":\"bottom\"},\"fill_alpha\":{\"value\":0.5},\"fill_color\":{\"value\":\"pink\"},\"left\":{\"field\":\"left\"},\"line_alpha\":{\"value\":0.5},\"line_width\":{\"value\":2},\"right\":{\"field\":\"right\"},\"top\":{\"field\":\"top\"}},\"id\":\"14540\",\"type\":\"Quad\"},{\"attributes\":{\"label\":{\"value\":\"<Age> = 30.431361\"},\"renderers\":[{\"id\":\"14476\",\"type\":\"GlyphRenderer\"},{\"id\":\"14490\",\"type\":\"GlyphRenderer\"}]},\"id\":\"14486\",\"type\":\"LegendItem\"},{\"attributes\":{\"bottom\":{\"field\":\"bottom\"},\"fill_alpha\":{\"value\":0.1},\"fill_color\":{\"value\":\"#1f77b4\"},\"left\":{\"field\":\"left\"},\"line_alpha\":{\"value\":0.1},\"line_color\":{\"value\":\"#1f77b4\"},\"line_width\":{\"value\":2},\"right\":{\"field\":\"right\"},\"top\":{\"field\":\"top\"}},\"id\":\"14541\",\"type\":\"Quad\"},{\"attributes\":{},\"id\":\"13930\",\"type\":\"WheelZoomTool\"},{\"attributes\":{\"click_policy\":\"hide\",\"items\":[{\"id\":\"13955\",\"type\":\"LegendItem\"}]},\"id\":\"13954\",\"type\":\"Legend\"},{\"attributes\":{\"data_source\":{\"id\":\"14538\",\"type\":\"ColumnDataSource\"},\"glyph\":{\"id\":\"14540\",\"type\":\"Quad\"},\"hover_glyph\":null,\"muted_glyph\":null,\"nonselection_glyph\":{\"id\":\"14541\",\"type\":\"Quad\"},\"selection_glyph\":null,\"view\":{\"id\":\"14543\",\"type\":\"CDSView\"}},\"id\":\"14542\",\"type\":\"GlyphRenderer\"},{\"attributes\":{\"dimension\":1,\"ticker\":{\"id\":\"13925\",\"type\":\"BasicTicker\"}},\"id\":\"13928\",\"type\":\"Grid\"},{\"attributes\":{\"source\":{\"id\":\"14538\",\"type\":\"ColumnDataSource\"}},\"id\":\"14543\",\"type\":\"CDSView\"},{\"attributes\":{},\"id\":\"14004\",\"type\":\"Selection\"},{\"attributes\":{},\"id\":\"14553\",\"type\":\"UnionRenderers\"},{\"attributes\":{},\"id\":\"14366\",\"type\":\"Selection\"},{\"attributes\":{\"bottom\":{\"field\":\"bottom\"},\"fill_alpha\":{\"value\":0.5},\"fill_color\":{\"value\":\"#1f77b4\"},\"left\":{\"field\":\"left\"},\"line_alpha\":{\"value\":0.5},\"line_width\":{\"value\":2},\"right\":{\"field\":\"right\"},\"top\":{\"field\":\"top\"}},\"id\":\"14459\",\"type\":\"Quad\"}],\"root_ids\":[\"14628\"]},\"title\":\"Bokeh Application\",\"version\":\"1.2.0\"}};\n",
       "  var render_items = [{\"docid\":\"5c0fc2eb-c12d-44c1-9bba-df982b5314f0\",\"roots\":{\"14628\":\"5101d902-6405-45e1-9625-8f0ac418f378\"}}];\n",
       "  root.Bokeh.embed.embed_items_notebook(docs_json, render_items);\n",
       "\n",
       "  }\n",
       "  if (root.Bokeh !== undefined) {\n",
       "    embed_document(root);\n",
       "  } else {\n",
       "    var attempts = 0;\n",
       "    var timer = setInterval(function(root) {\n",
       "      if (root.Bokeh !== undefined) {\n",
       "        embed_document(root);\n",
       "        clearInterval(timer);\n",
       "      }\n",
       "      attempts++;\n",
       "      if (attempts > 100) {\n",
       "        console.log(\"Bokeh: ERROR: Unable to run BokehJS code because BokehJS library is missing\");\n",
       "        clearInterval(timer);\n",
       "      }\n",
       "    }, 10, root)\n",
       "  }\n",
       "})(window);"
      ],
      "application/vnd.bokehjs_exec.v0+json": ""
     },
     "metadata": {
      "application/vnd.bokehjs_exec.v0+json": {
       "id": "14628"
      }
     },
     "output_type": "display_data"
    },
    {
     "data": {
      "text/html": [
       "<div style=\"display: table;\"><div style=\"display: table-row;\"><div style=\"display: table-cell;\"><b title=\"bokeh.models.layouts.Column\">Column</b>(</div><div style=\"display: table-cell;\">id&nbsp;=&nbsp;'14628', <span id=\"15171\" style=\"cursor: pointer;\">&hellip;)</span></div></div><div class=\"15170\" style=\"display: none;\"><div style=\"display: table-cell;\"></div><div style=\"display: table-cell;\">align&nbsp;=&nbsp;'start',</div></div><div class=\"15170\" style=\"display: none;\"><div style=\"display: table-cell;\"></div><div style=\"display: table-cell;\">aspect_ratio&nbsp;=&nbsp;None,</div></div><div class=\"15170\" style=\"display: none;\"><div style=\"display: table-cell;\"></div><div style=\"display: table-cell;\">background&nbsp;=&nbsp;None,</div></div><div class=\"15170\" style=\"display: none;\"><div style=\"display: table-cell;\"></div><div style=\"display: table-cell;\">children&nbsp;=&nbsp;[ToolbarBox(id='14627', ...), GridBox(id='14625', ...)],</div></div><div class=\"15170\" style=\"display: none;\"><div style=\"display: table-cell;\"></div><div style=\"display: table-cell;\">css_classes&nbsp;=&nbsp;[],</div></div><div class=\"15170\" style=\"display: none;\"><div style=\"display: table-cell;\"></div><div style=\"display: table-cell;\">disabled&nbsp;=&nbsp;False,</div></div><div class=\"15170\" style=\"display: none;\"><div style=\"display: table-cell;\"></div><div style=\"display: table-cell;\">height&nbsp;=&nbsp;None,</div></div><div class=\"15170\" style=\"display: none;\"><div style=\"display: table-cell;\"></div><div style=\"display: table-cell;\">height_policy&nbsp;=&nbsp;'auto',</div></div><div class=\"15170\" style=\"display: none;\"><div style=\"display: table-cell;\"></div><div style=\"display: table-cell;\">js_event_callbacks&nbsp;=&nbsp;{},</div></div><div class=\"15170\" style=\"display: none;\"><div style=\"display: table-cell;\"></div><div style=\"display: table-cell;\">js_property_callbacks&nbsp;=&nbsp;{},</div></div><div class=\"15170\" style=\"display: none;\"><div style=\"display: table-cell;\"></div><div style=\"display: table-cell;\">margin&nbsp;=&nbsp;(0, 0, 0, 0),</div></div><div class=\"15170\" style=\"display: none;\"><div style=\"display: table-cell;\"></div><div style=\"display: table-cell;\">max_height&nbsp;=&nbsp;None,</div></div><div class=\"15170\" style=\"display: none;\"><div style=\"display: table-cell;\"></div><div style=\"display: table-cell;\">max_width&nbsp;=&nbsp;None,</div></div><div class=\"15170\" style=\"display: none;\"><div style=\"display: table-cell;\"></div><div style=\"display: table-cell;\">min_height&nbsp;=&nbsp;None,</div></div><div class=\"15170\" style=\"display: none;\"><div style=\"display: table-cell;\"></div><div style=\"display: table-cell;\">min_width&nbsp;=&nbsp;None,</div></div><div class=\"15170\" style=\"display: none;\"><div style=\"display: table-cell;\"></div><div style=\"display: table-cell;\">name&nbsp;=&nbsp;None,</div></div><div class=\"15170\" style=\"display: none;\"><div style=\"display: table-cell;\"></div><div style=\"display: table-cell;\">rows&nbsp;=&nbsp;'auto',</div></div><div class=\"15170\" style=\"display: none;\"><div style=\"display: table-cell;\"></div><div style=\"display: table-cell;\">sizing_mode&nbsp;=&nbsp;None,</div></div><div class=\"15170\" style=\"display: none;\"><div style=\"display: table-cell;\"></div><div style=\"display: table-cell;\">spacing&nbsp;=&nbsp;0,</div></div><div class=\"15170\" style=\"display: none;\"><div style=\"display: table-cell;\"></div><div style=\"display: table-cell;\">subscribed_events&nbsp;=&nbsp;[],</div></div><div class=\"15170\" style=\"display: none;\"><div style=\"display: table-cell;\"></div><div style=\"display: table-cell;\">tags&nbsp;=&nbsp;[],</div></div><div class=\"15170\" style=\"display: none;\"><div style=\"display: table-cell;\"></div><div style=\"display: table-cell;\">visible&nbsp;=&nbsp;True,</div></div><div class=\"15170\" style=\"display: none;\"><div style=\"display: table-cell;\"></div><div style=\"display: table-cell;\">width&nbsp;=&nbsp;None,</div></div><div class=\"15170\" style=\"display: none;\"><div style=\"display: table-cell;\"></div><div style=\"display: table-cell;\">width_policy&nbsp;=&nbsp;'auto')</div></div></div>\n",
       "<script>\n",
       "(function() {\n",
       "  var expanded = false;\n",
       "  var ellipsis = document.getElementById(\"15171\");\n",
       "  ellipsis.addEventListener(\"click\", function() {\n",
       "    var rows = document.getElementsByClassName(\"15170\");\n",
       "    for (var i = 0; i < rows.length; i++) {\n",
       "      var el = rows[i];\n",
       "      el.style.display = expanded ? \"none\" : \"table-row\";\n",
       "    }\n",
       "    ellipsis.innerHTML = expanded ? \"&hellip;)\" : \"&lsaquo;&lsaquo;&lsaquo;\";\n",
       "    expanded = !expanded;\n",
       "  });\n",
       "})();\n",
       "</script>\n"
      ],
      "text/plain": [
       "Column(id='14628', ...)"
      ]
     },
     "execution_count": 55,
     "metadata": {},
     "output_type": "execute_result"
    }
   ],
   "source": [
    "p_hist_3 = df[df.Sex == \"male\"].plot.hist(\n",
    "    y=\"Age\",\n",
    "    bins=range(0, 101, 10),\n",
    "    line_color=\"black\",\n",
    "    ylabel=\"Passengers (%)\",\n",
    "    title=\"Normed age distributions seperated by sex\",\n",
    "    figsize=(800, 300),\n",
    "    alpha=0.5,\n",
    "    normed=100,\n",
    "    show_average=True,\n",
    "    show_figure=False,\n",
    ")\n",
    "\n",
    "p_hist_4 = df[df.Sex == \"female\"].plot.hist(\n",
    "    figure=p_hist_3,\n",
    "    y=\"Age\",\n",
    "    bins=range(0, 101, 10),\n",
    "    line_color=\"black\",\n",
    "    figsize=(800, 300),\n",
    "    color=\"pink\",\n",
    "    alpha=0.5,\n",
    "    normed=100,\n",
    "    show_average=True,\n",
    "    show_figure=False,\n",
    ")\n",
    "\n",
    "pd.plotting.plot_grid([[p_hist_2, p_hist_4]], plot_width=450)"
   ]
  }
 ],
 "metadata": {
  "kernelspec": {
   "display_name": "Python 3",
   "language": "python",
   "name": "python3"
  },
  "language_info": {
   "codemirror_mode": {
    "name": "ipython",
    "version": 3
   },
   "file_extension": ".py",
   "mimetype": "text/x-python",
   "name": "python",
   "nbconvert_exporter": "python",
   "pygments_lexer": "ipython3",
   "version": "3.7.3"
  },
  "toc": {
   "base_numbering": 1,
   "nav_menu": {},
   "number_sections": true,
   "sideBar": true,
   "skip_h1_title": false,
   "title_cell": "Table of Contents",
   "title_sidebar": "Contents",
   "toc_cell": false,
   "toc_position": {},
   "toc_section_display": true,
   "toc_window_display": false
  }
 },
 "nbformat": 4,
 "nbformat_minor": 2
}
